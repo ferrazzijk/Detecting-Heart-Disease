{
  "nbformat": 4,
  "nbformat_minor": 0,
  "metadata": {
    "colab": {
      "name": "Heart Disease Detection",
      "provenance": [],
      "collapsed_sections": [],
      "toc_visible": true,
      "authorship_tag": "ABX9TyMxvY4QpqbbWZOGfl6txOyp",
      "include_colab_link": true
    },
    "kernelspec": {
      "name": "python3",
      "display_name": "Python 3"
    },
    "widgets": {
      "application/vnd.jupyter.widget-state+json": {
        "8c43c7ea4bc64164b43080572a3c1cf1": {
          "model_module": "@jupyter-widgets/controls",
          "model_name": "ButtonModel",
          "state": {
            "_view_name": "ButtonView",
            "style": "IPY_MODEL_28df4e927f424e419da79561d71901fe",
            "_dom_classes": [],
            "description": "Submit",
            "_model_name": "ButtonModel",
            "button_style": "",
            "_view_module": "@jupyter-widgets/controls",
            "_model_module_version": "1.5.0",
            "tooltip": "",
            "_view_count": null,
            "disabled": false,
            "_view_module_version": "1.5.0",
            "layout": "IPY_MODEL_a8700c75145a489fb8b6c15235bbb849",
            "_model_module": "@jupyter-widgets/controls",
            "icon": ""
          }
        },
        "28df4e927f424e419da79561d71901fe": {
          "model_module": "@jupyter-widgets/controls",
          "model_name": "ButtonStyleModel",
          "state": {
            "_view_name": "StyleView",
            "_model_name": "ButtonStyleModel",
            "_view_module": "@jupyter-widgets/base",
            "_model_module_version": "1.5.0",
            "_view_count": null,
            "button_color": null,
            "font_weight": "",
            "_view_module_version": "1.2.0",
            "_model_module": "@jupyter-widgets/controls"
          }
        },
        "a8700c75145a489fb8b6c15235bbb849": {
          "model_module": "@jupyter-widgets/base",
          "model_name": "LayoutModel",
          "state": {
            "_view_name": "LayoutView",
            "grid_template_rows": null,
            "right": null,
            "justify_content": null,
            "_view_module": "@jupyter-widgets/base",
            "overflow": null,
            "_model_module_version": "1.2.0",
            "_view_count": null,
            "flex_flow": null,
            "width": null,
            "min_width": null,
            "border": null,
            "align_items": null,
            "bottom": null,
            "_model_module": "@jupyter-widgets/base",
            "top": null,
            "grid_column": null,
            "overflow_y": null,
            "overflow_x": null,
            "grid_auto_flow": null,
            "grid_area": null,
            "grid_template_columns": null,
            "flex": null,
            "_model_name": "LayoutModel",
            "justify_items": null,
            "grid_row": null,
            "max_height": null,
            "align_content": null,
            "visibility": null,
            "align_self": null,
            "height": null,
            "min_height": null,
            "padding": null,
            "grid_auto_rows": null,
            "grid_gap": null,
            "max_width": null,
            "order": null,
            "_view_module_version": "1.2.0",
            "grid_template_areas": null,
            "object_position": null,
            "object_fit": null,
            "grid_auto_columns": null,
            "margin": null,
            "display": null,
            "left": null
          }
        },
        "40c3a0577a5e422bb9e0ed52870d97b7": {
          "model_module": "@jupyter-widgets/output",
          "model_name": "OutputModel",
          "state": {
            "_view_name": "OutputView",
            "msg_id": "",
            "_dom_classes": [],
            "_model_name": "OutputModel",
            "outputs": [],
            "_view_module": "@jupyter-widgets/output",
            "_model_module_version": "1.0.0",
            "_view_count": null,
            "_view_module_version": "1.0.0",
            "layout": "IPY_MODEL_2329a7309fe74ed799202bd983ad1242",
            "_model_module": "@jupyter-widgets/output"
          }
        },
        "2329a7309fe74ed799202bd983ad1242": {
          "model_module": "@jupyter-widgets/base",
          "model_name": "LayoutModel",
          "state": {
            "_view_name": "LayoutView",
            "grid_template_rows": null,
            "right": null,
            "justify_content": null,
            "_view_module": "@jupyter-widgets/base",
            "overflow": null,
            "_model_module_version": "1.2.0",
            "_view_count": null,
            "flex_flow": null,
            "width": null,
            "min_width": null,
            "border": null,
            "align_items": null,
            "bottom": null,
            "_model_module": "@jupyter-widgets/base",
            "top": null,
            "grid_column": null,
            "overflow_y": null,
            "overflow_x": null,
            "grid_auto_flow": null,
            "grid_area": null,
            "grid_template_columns": null,
            "flex": null,
            "_model_name": "LayoutModel",
            "justify_items": null,
            "grid_row": null,
            "max_height": null,
            "align_content": null,
            "visibility": null,
            "align_self": null,
            "height": null,
            "min_height": null,
            "padding": null,
            "grid_auto_rows": null,
            "grid_gap": null,
            "max_width": null,
            "order": null,
            "_view_module_version": "1.2.0",
            "grid_template_areas": null,
            "object_position": null,
            "object_fit": null,
            "grid_auto_columns": null,
            "margin": null,
            "display": null,
            "left": null
          }
        }
      }
    }
  },
  "cells": [
    {
      "cell_type": "markdown",
      "metadata": {
        "id": "view-in-github",
        "colab_type": "text"
      },
      "source": [
        "<a href=\"https://colab.research.google.com/github/ferrazzijk/Detecting-Heart-Disease/blob/main/Heart_Disease_Detection.ipynb\" target=\"_parent\"><img src=\"https://colab.research.google.com/assets/colab-badge.svg\" alt=\"Open In Colab\"/></a>"
      ]
    },
    {
      "cell_type": "markdown",
      "metadata": {
        "id": "5olwbPAITVqk"
      },
      "source": [
        "# **Heart Disease Detection Introduction**\r\n",
        "\r\n",
        "This dataset contains information based on attributes of a patients with concern of  possible heart disease. The goal is to use the data to predict if a person has a heart disease or not as well as gaining various insights to better understand heart disease.\r\n",
        "\r\n",
        "The dataset is provided complimentary by UGI and can be found [here](https://archive.ics.uci.edu/ml/datasets/Heart+Disease). \r\n",
        "\r\n",
        "\r\n",
        "The dataset was created by: -\r\n",
        "1. Hungarian Institute of Cardiology. Budapest: Andras Janosi, M.D.\r\n",
        "2. University Hospital, Zurich, Switzerland: William Steinbrunn, M.D.\r\n",
        "3. University Hospital, Basel, Switzerland: Matthias Pfisterer, M.D.\r\n",
        "4. V.A. Medical Center, Long Beach and Cleveland Clinic Foundation: Robert Detrano, M.D., Ph.D.\r\n",
        "\r\n",
        "**The dataset contains 14 columns:**\r\n",
        "\r\n",
        "**age:** age in years\r\n",
        "\r\n",
        "**sex:** (1 = male; 0 = female)\r\n",
        "\r\n",
        "**cp:** chest pain type (0=asymptomatic, 1=atypical angina, 2=non-anginal pain, 3=typical angina)\r\n",
        "\r\n",
        "**trestbps:** resting blood pressure (in mm Hg on admission to the hospital)\r\n",
        "\r\n",
        "**chol:** serum cholesterol in mg/dl\r\n",
        "\r\n",
        "**fbs:** (fasting blood sugar > 120 mg/dl) (1 = true; 0 = false)\r\n",
        "\r\n",
        "**restecg:** resting electrocardiographic results (0=showing probable or definite left ventricular hypertrophy by Estes’ criteria, 1= normal, 2= having ST-T wave abnormality (T wave inversions and/or ST elevation or depression of > 0.05 mV)\r\n",
        "\r\n",
        "**thalach:** maximum heart rate achieved during a stress test\r\n",
        "\r\n",
        "**exang:** exercise induced angina (1 = yes; 0 = no)\r\n",
        "\r\n",
        "**oldpeak:** ST depression induced by exercise relative to rest (‘ST’ relates to positions on the ECG plot)\r\n",
        "\r\n",
        "**slope:** the slope of the peak exercise ST segment (0= downsloping, 1=flat, 2=upsloping)\r\n",
        "\r\n",
        "**ca:** number of major vessels (0-3) colored by fluoroscopy\r\n",
        "\r\n",
        "**thal:** 3 = normal; 6 = fixed defect; 7 = reversible defect\r\n",
        "\r\n",
        "**target:** 1 (has heart disease) or 0 (does not have heart disease)"
      ]
    },
    {
      "cell_type": "markdown",
      "metadata": {
        "id": "jPzlY22Ebfv0"
      },
      "source": [
        "# **Table of Contents**\r\n",
        "1. [Imports & Reading Dataset ](#1)\r\n",
        "2. [Exploratory Data Analysis](#2)\r\n",
        "  \r\n",
        "  a. [Heart Disease Status Counts](#3)\r\n",
        "  \r\n",
        "  b. [Heart Disease Status & Maximum Heart Rate Achieved](#4)\r\n",
        "\r\n",
        "  c. [Correlations](#5)\r\n",
        "  \r\n",
        "  d. [Heart Disease Status & Age](#6)\r\n",
        "  \r\n",
        "  e. [Chest Pain Exploration](#7)\r\n",
        "\r\n",
        "3. [Classification Model Testing](#8)\r\n",
        "\r\n",
        "  a. [Prep for Model Building](#9)\r\n",
        "\r\n",
        "  b. [Logistic Regression Classifier](#10)\r\n",
        "\r\n",
        "  c. [Random Forest Classifier](#11)\r\n",
        "\r\n",
        "  d. [K-Nearest Neighbors Classifier](#12)\r\n",
        "\r\n",
        "  e. [Support Vector Machine Classifier](#13)\r\n",
        "\r\n",
        "  f. [Gradient Boosting Classifier](#14)\r\n",
        "\r\n",
        "  g. [Ridge Classifier](#15)\r\n",
        "\r\n",
        "4. [Model Comparison](#16)\r\n",
        "\r\n",
        "  a. [Conclusion](#17)\r\n",
        "\r\n",
        "5. [Deployment of Model](#18)\r\n",
        "\r\n",
        "  a. [User Based Form to Detect Heart Disease](#19)\r\n",
        "\r\n",
        "  b. [Flask User Based Form to Detect Heart Disease](#20)"
      ]
    },
    {
      "cell_type": "markdown",
      "metadata": {
        "id": "bIgKpOhvbtR6"
      },
      "source": [
        "# **Imports & Reading Dataset** <a name=\"1\"></a>"
      ]
    },
    {
      "cell_type": "code",
      "metadata": {
        "id": "2f0uDxqURy_O",
        "colab": {
          "base_uri": "https://localhost:8080/"
        },
        "outputId": "19d10c8c-5a1d-451b-912d-b5c49671e201"
      },
      "source": [
        "#set environment\r\n",
        "\r\n",
        "!pip install flask-ngrok\r\n",
        "\r\n",
        "import IPython.display\r\n",
        "import ipywidgets as widgets\r\n",
        "import pandas as pd\r\n",
        "import numpy as np\r\n",
        "import matplotlib.pyplot as plt\r\n",
        "import scipy.stats as stats\r\n",
        "import seaborn as sns\r\n",
        "import statsmodels.api as sm\r\n",
        "import textwrap\r\n",
        "\r\n",
        "from flask import Flask\r\n",
        "from flask_ngrok import run_with_ngrok\r\n",
        "from IPython.display import display\r\n",
        "from scipy.stats import fisher_exact\r\n",
        "from sklearn.preprocessing import LabelEncoder, StandardScaler, MinMaxScaler\r\n",
        "from sklearn.model_selection import train_test_split, cross_val_score, GridSearchCV \r\n",
        "from sklearn.linear_model import LogisticRegression, RidgeClassifierCV\r\n",
        "from sklearn.metrics import  classification_report, mean_absolute_error, precision_score, recall_score, f1_score, accuracy_score, confusion_matrix\r\n",
        "from sklearn.ensemble import RandomForestClassifier, GradientBoostingClassifier\r\n",
        "from statsmodels.tools.eval_measures import mse, rmse\r\n",
        "from sklearn import neighbors, metrics, svm, ensemble\r\n",
        "from sklearn.neighbors import KNeighborsClassifier\r\n",
        "from sklearn.svm import SVC\r\n",
        "\r\n",
        "#ignore warnings\r\n",
        "import warnings\r\n",
        "warnings.filterwarnings(\"ignore\")"
      ],
      "execution_count": null,
      "outputs": [
        {
          "output_type": "stream",
          "text": [
            "Requirement already satisfied: flask-ngrok in /usr/local/lib/python3.6/dist-packages (0.0.25)\n",
            "Requirement already satisfied: requests in /usr/local/lib/python3.6/dist-packages (from flask-ngrok) (2.23.0)\n",
            "Requirement already satisfied: Flask>=0.8 in /usr/local/lib/python3.6/dist-packages (from flask-ngrok) (1.1.2)\n",
            "Requirement already satisfied: certifi>=2017.4.17 in /usr/local/lib/python3.6/dist-packages (from requests->flask-ngrok) (2020.12.5)\n",
            "Requirement already satisfied: urllib3!=1.25.0,!=1.25.1,<1.26,>=1.21.1 in /usr/local/lib/python3.6/dist-packages (from requests->flask-ngrok) (1.24.3)\n",
            "Requirement already satisfied: chardet<4,>=3.0.2 in /usr/local/lib/python3.6/dist-packages (from requests->flask-ngrok) (3.0.4)\n",
            "Requirement already satisfied: idna<3,>=2.5 in /usr/local/lib/python3.6/dist-packages (from requests->flask-ngrok) (2.10)\n",
            "Requirement already satisfied: itsdangerous>=0.24 in /usr/local/lib/python3.6/dist-packages (from Flask>=0.8->flask-ngrok) (1.1.0)\n",
            "Requirement already satisfied: Jinja2>=2.10.1 in /usr/local/lib/python3.6/dist-packages (from Flask>=0.8->flask-ngrok) (2.11.3)\n",
            "Requirement already satisfied: click>=5.1 in /usr/local/lib/python3.6/dist-packages (from Flask>=0.8->flask-ngrok) (7.1.2)\n",
            "Requirement already satisfied: Werkzeug>=0.15 in /usr/local/lib/python3.6/dist-packages (from Flask>=0.8->flask-ngrok) (1.0.1)\n",
            "Requirement already satisfied: MarkupSafe>=0.23 in /usr/local/lib/python3.6/dist-packages (from Jinja2>=2.10.1->Flask>=0.8->flask-ngrok) (1.1.1)\n"
          ],
          "name": "stdout"
        }
      ]
    },
    {
      "cell_type": "code",
      "metadata": {
        "id": "N7DJH82OSNg8"
      },
      "source": [
        "#load and read data\r\n",
        "url = 'https://raw.githubusercontent.com/ferrazzijk/Practice_Project_1/main/Heart.csv?=1'\r\n",
        "data_df = pd.read_csv(url)"
      ],
      "execution_count": null,
      "outputs": []
    },
    {
      "cell_type": "code",
      "metadata": {
        "colab": {
          "base_uri": "https://localhost:8080/",
          "height": 191
        },
        "id": "OFfunHaeTJqz",
        "outputId": "08b9a91b-93e6-48ab-9739-5ccf4c098516"
      },
      "source": [
        "#view df\r\n",
        "data_df.head()"
      ],
      "execution_count": null,
      "outputs": [
        {
          "output_type": "execute_result",
          "data": {
            "text/html": [
              "<div>\n",
              "<style scoped>\n",
              "    .dataframe tbody tr th:only-of-type {\n",
              "        vertical-align: middle;\n",
              "    }\n",
              "\n",
              "    .dataframe tbody tr th {\n",
              "        vertical-align: top;\n",
              "    }\n",
              "\n",
              "    .dataframe thead th {\n",
              "        text-align: right;\n",
              "    }\n",
              "</style>\n",
              "<table border=\"1\" class=\"dataframe\">\n",
              "  <thead>\n",
              "    <tr style=\"text-align: right;\">\n",
              "      <th></th>\n",
              "      <th>age</th>\n",
              "      <th>sex</th>\n",
              "      <th>cp</th>\n",
              "      <th>trestbps</th>\n",
              "      <th>chol</th>\n",
              "      <th>fbs</th>\n",
              "      <th>restecg</th>\n",
              "      <th>thalach</th>\n",
              "      <th>exang</th>\n",
              "      <th>oldpeak</th>\n",
              "      <th>slope</th>\n",
              "      <th>ca</th>\n",
              "      <th>thal</th>\n",
              "      <th>target</th>\n",
              "    </tr>\n",
              "  </thead>\n",
              "  <tbody>\n",
              "    <tr>\n",
              "      <th>0</th>\n",
              "      <td>63</td>\n",
              "      <td>1</td>\n",
              "      <td>3</td>\n",
              "      <td>145</td>\n",
              "      <td>233</td>\n",
              "      <td>1</td>\n",
              "      <td>0</td>\n",
              "      <td>150</td>\n",
              "      <td>0</td>\n",
              "      <td>2.3</td>\n",
              "      <td>0</td>\n",
              "      <td>0</td>\n",
              "      <td>1</td>\n",
              "      <td>1</td>\n",
              "    </tr>\n",
              "    <tr>\n",
              "      <th>1</th>\n",
              "      <td>37</td>\n",
              "      <td>1</td>\n",
              "      <td>2</td>\n",
              "      <td>130</td>\n",
              "      <td>250</td>\n",
              "      <td>0</td>\n",
              "      <td>1</td>\n",
              "      <td>187</td>\n",
              "      <td>0</td>\n",
              "      <td>3.5</td>\n",
              "      <td>0</td>\n",
              "      <td>0</td>\n",
              "      <td>2</td>\n",
              "      <td>1</td>\n",
              "    </tr>\n",
              "    <tr>\n",
              "      <th>2</th>\n",
              "      <td>41</td>\n",
              "      <td>0</td>\n",
              "      <td>1</td>\n",
              "      <td>130</td>\n",
              "      <td>204</td>\n",
              "      <td>0</td>\n",
              "      <td>0</td>\n",
              "      <td>172</td>\n",
              "      <td>0</td>\n",
              "      <td>1.4</td>\n",
              "      <td>2</td>\n",
              "      <td>0</td>\n",
              "      <td>2</td>\n",
              "      <td>1</td>\n",
              "    </tr>\n",
              "    <tr>\n",
              "      <th>3</th>\n",
              "      <td>56</td>\n",
              "      <td>1</td>\n",
              "      <td>1</td>\n",
              "      <td>120</td>\n",
              "      <td>236</td>\n",
              "      <td>0</td>\n",
              "      <td>1</td>\n",
              "      <td>178</td>\n",
              "      <td>0</td>\n",
              "      <td>0.8</td>\n",
              "      <td>2</td>\n",
              "      <td>0</td>\n",
              "      <td>2</td>\n",
              "      <td>1</td>\n",
              "    </tr>\n",
              "    <tr>\n",
              "      <th>4</th>\n",
              "      <td>57</td>\n",
              "      <td>0</td>\n",
              "      <td>0</td>\n",
              "      <td>120</td>\n",
              "      <td>354</td>\n",
              "      <td>0</td>\n",
              "      <td>1</td>\n",
              "      <td>163</td>\n",
              "      <td>1</td>\n",
              "      <td>0.6</td>\n",
              "      <td>2</td>\n",
              "      <td>0</td>\n",
              "      <td>2</td>\n",
              "      <td>1</td>\n",
              "    </tr>\n",
              "  </tbody>\n",
              "</table>\n",
              "</div>"
            ],
            "text/plain": [
              "   age  sex  cp  trestbps  chol  fbs  ...  exang  oldpeak  slope  ca  thal  target\n",
              "0   63    1   3       145   233    1  ...      0      2.3      0   0     1       1\n",
              "1   37    1   2       130   250    0  ...      0      3.5      0   0     2       1\n",
              "2   41    0   1       130   204    0  ...      0      1.4      2   0     2       1\n",
              "3   56    1   1       120   236    0  ...      0      0.8      2   0     2       1\n",
              "4   57    0   0       120   354    0  ...      1      0.6      2   0     2       1\n",
              "\n",
              "[5 rows x 14 columns]"
            ]
          },
          "metadata": {
            "tags": []
          },
          "execution_count": 3
        }
      ]
    },
    {
      "cell_type": "code",
      "metadata": {
        "colab": {
          "base_uri": "https://localhost:8080/",
          "height": 191
        },
        "id": "v5KUwEAIWd6C",
        "outputId": "c5b9c344-eca6-4a13-f8c1-86ff070b27f7"
      },
      "source": [
        "#check for null values\r\n",
        "total_missing = data_df.isnull().sum().sort_values(ascending=False)\r\n",
        "percent_missing = (data_df.isnull().sum()/data_df.isnull().count()).sort_values(ascending=False)\r\n",
        "missing_data = pd.concat([total_missing, percent_missing], axis=1, keys=['Total', 'Percent'])\r\n",
        "missing_data.head()"
      ],
      "execution_count": null,
      "outputs": [
        {
          "output_type": "execute_result",
          "data": {
            "text/html": [
              "<div>\n",
              "<style scoped>\n",
              "    .dataframe tbody tr th:only-of-type {\n",
              "        vertical-align: middle;\n",
              "    }\n",
              "\n",
              "    .dataframe tbody tr th {\n",
              "        vertical-align: top;\n",
              "    }\n",
              "\n",
              "    .dataframe thead th {\n",
              "        text-align: right;\n",
              "    }\n",
              "</style>\n",
              "<table border=\"1\" class=\"dataframe\">\n",
              "  <thead>\n",
              "    <tr style=\"text-align: right;\">\n",
              "      <th></th>\n",
              "      <th>Total</th>\n",
              "      <th>Percent</th>\n",
              "    </tr>\n",
              "  </thead>\n",
              "  <tbody>\n",
              "    <tr>\n",
              "      <th>target</th>\n",
              "      <td>0</td>\n",
              "      <td>0.0</td>\n",
              "    </tr>\n",
              "    <tr>\n",
              "      <th>thal</th>\n",
              "      <td>0</td>\n",
              "      <td>0.0</td>\n",
              "    </tr>\n",
              "    <tr>\n",
              "      <th>ca</th>\n",
              "      <td>0</td>\n",
              "      <td>0.0</td>\n",
              "    </tr>\n",
              "    <tr>\n",
              "      <th>slope</th>\n",
              "      <td>0</td>\n",
              "      <td>0.0</td>\n",
              "    </tr>\n",
              "    <tr>\n",
              "      <th>oldpeak</th>\n",
              "      <td>0</td>\n",
              "      <td>0.0</td>\n",
              "    </tr>\n",
              "  </tbody>\n",
              "</table>\n",
              "</div>"
            ],
            "text/plain": [
              "         Total  Percent\n",
              "target       0      0.0\n",
              "thal         0      0.0\n",
              "ca           0      0.0\n",
              "slope        0      0.0\n",
              "oldpeak      0      0.0"
            ]
          },
          "metadata": {
            "tags": []
          },
          "execution_count": 4
        }
      ]
    },
    {
      "cell_type": "code",
      "metadata": {
        "colab": {
          "base_uri": "https://localhost:8080/"
        },
        "id": "LZvjJLenWr5a",
        "outputId": "4c029b77-34cf-4fb4-c815-aee5b96a393b"
      },
      "source": [
        "#view data types\r\n",
        "data_df.dtypes"
      ],
      "execution_count": null,
      "outputs": [
        {
          "output_type": "execute_result",
          "data": {
            "text/plain": [
              "age           int64\n",
              "sex           int64\n",
              "cp            int64\n",
              "trestbps      int64\n",
              "chol          int64\n",
              "fbs           int64\n",
              "restecg       int64\n",
              "thalach       int64\n",
              "exang         int64\n",
              "oldpeak     float64\n",
              "slope         int64\n",
              "ca            int64\n",
              "thal          int64\n",
              "target        int64\n",
              "dtype: object"
            ]
          },
          "metadata": {
            "tags": []
          },
          "execution_count": 5
        }
      ]
    },
    {
      "cell_type": "code",
      "metadata": {
        "colab": {
          "base_uri": "https://localhost:8080/",
          "height": 450
        },
        "id": "LDiAvKFPS54T",
        "outputId": "cbeaf5ae-d394-4df2-9d0d-d24ec8d1e4df"
      },
      "source": [
        "#view the descriptive statistcs of each column\r\n",
        "data_df.describe().T"
      ],
      "execution_count": null,
      "outputs": [
        {
          "output_type": "execute_result",
          "data": {
            "text/html": [
              "<div>\n",
              "<style scoped>\n",
              "    .dataframe tbody tr th:only-of-type {\n",
              "        vertical-align: middle;\n",
              "    }\n",
              "\n",
              "    .dataframe tbody tr th {\n",
              "        vertical-align: top;\n",
              "    }\n",
              "\n",
              "    .dataframe thead th {\n",
              "        text-align: right;\n",
              "    }\n",
              "</style>\n",
              "<table border=\"1\" class=\"dataframe\">\n",
              "  <thead>\n",
              "    <tr style=\"text-align: right;\">\n",
              "      <th></th>\n",
              "      <th>count</th>\n",
              "      <th>mean</th>\n",
              "      <th>std</th>\n",
              "      <th>min</th>\n",
              "      <th>25%</th>\n",
              "      <th>50%</th>\n",
              "      <th>75%</th>\n",
              "      <th>max</th>\n",
              "    </tr>\n",
              "  </thead>\n",
              "  <tbody>\n",
              "    <tr>\n",
              "      <th>age</th>\n",
              "      <td>303.0</td>\n",
              "      <td>54.366337</td>\n",
              "      <td>9.082101</td>\n",
              "      <td>29.0</td>\n",
              "      <td>47.5</td>\n",
              "      <td>55.0</td>\n",
              "      <td>61.0</td>\n",
              "      <td>77.0</td>\n",
              "    </tr>\n",
              "    <tr>\n",
              "      <th>sex</th>\n",
              "      <td>303.0</td>\n",
              "      <td>0.683168</td>\n",
              "      <td>0.466011</td>\n",
              "      <td>0.0</td>\n",
              "      <td>0.0</td>\n",
              "      <td>1.0</td>\n",
              "      <td>1.0</td>\n",
              "      <td>1.0</td>\n",
              "    </tr>\n",
              "    <tr>\n",
              "      <th>cp</th>\n",
              "      <td>303.0</td>\n",
              "      <td>0.966997</td>\n",
              "      <td>1.032052</td>\n",
              "      <td>0.0</td>\n",
              "      <td>0.0</td>\n",
              "      <td>1.0</td>\n",
              "      <td>2.0</td>\n",
              "      <td>3.0</td>\n",
              "    </tr>\n",
              "    <tr>\n",
              "      <th>trestbps</th>\n",
              "      <td>303.0</td>\n",
              "      <td>131.623762</td>\n",
              "      <td>17.538143</td>\n",
              "      <td>94.0</td>\n",
              "      <td>120.0</td>\n",
              "      <td>130.0</td>\n",
              "      <td>140.0</td>\n",
              "      <td>200.0</td>\n",
              "    </tr>\n",
              "    <tr>\n",
              "      <th>chol</th>\n",
              "      <td>303.0</td>\n",
              "      <td>246.264026</td>\n",
              "      <td>51.830751</td>\n",
              "      <td>126.0</td>\n",
              "      <td>211.0</td>\n",
              "      <td>240.0</td>\n",
              "      <td>274.5</td>\n",
              "      <td>564.0</td>\n",
              "    </tr>\n",
              "    <tr>\n",
              "      <th>fbs</th>\n",
              "      <td>303.0</td>\n",
              "      <td>0.148515</td>\n",
              "      <td>0.356198</td>\n",
              "      <td>0.0</td>\n",
              "      <td>0.0</td>\n",
              "      <td>0.0</td>\n",
              "      <td>0.0</td>\n",
              "      <td>1.0</td>\n",
              "    </tr>\n",
              "    <tr>\n",
              "      <th>restecg</th>\n",
              "      <td>303.0</td>\n",
              "      <td>0.528053</td>\n",
              "      <td>0.525860</td>\n",
              "      <td>0.0</td>\n",
              "      <td>0.0</td>\n",
              "      <td>1.0</td>\n",
              "      <td>1.0</td>\n",
              "      <td>2.0</td>\n",
              "    </tr>\n",
              "    <tr>\n",
              "      <th>thalach</th>\n",
              "      <td>303.0</td>\n",
              "      <td>149.646865</td>\n",
              "      <td>22.905161</td>\n",
              "      <td>71.0</td>\n",
              "      <td>133.5</td>\n",
              "      <td>153.0</td>\n",
              "      <td>166.0</td>\n",
              "      <td>202.0</td>\n",
              "    </tr>\n",
              "    <tr>\n",
              "      <th>exang</th>\n",
              "      <td>303.0</td>\n",
              "      <td>0.326733</td>\n",
              "      <td>0.469794</td>\n",
              "      <td>0.0</td>\n",
              "      <td>0.0</td>\n",
              "      <td>0.0</td>\n",
              "      <td>1.0</td>\n",
              "      <td>1.0</td>\n",
              "    </tr>\n",
              "    <tr>\n",
              "      <th>oldpeak</th>\n",
              "      <td>303.0</td>\n",
              "      <td>1.039604</td>\n",
              "      <td>1.161075</td>\n",
              "      <td>0.0</td>\n",
              "      <td>0.0</td>\n",
              "      <td>0.8</td>\n",
              "      <td>1.6</td>\n",
              "      <td>6.2</td>\n",
              "    </tr>\n",
              "    <tr>\n",
              "      <th>slope</th>\n",
              "      <td>303.0</td>\n",
              "      <td>1.399340</td>\n",
              "      <td>0.616226</td>\n",
              "      <td>0.0</td>\n",
              "      <td>1.0</td>\n",
              "      <td>1.0</td>\n",
              "      <td>2.0</td>\n",
              "      <td>2.0</td>\n",
              "    </tr>\n",
              "    <tr>\n",
              "      <th>ca</th>\n",
              "      <td>303.0</td>\n",
              "      <td>0.729373</td>\n",
              "      <td>1.022606</td>\n",
              "      <td>0.0</td>\n",
              "      <td>0.0</td>\n",
              "      <td>0.0</td>\n",
              "      <td>1.0</td>\n",
              "      <td>4.0</td>\n",
              "    </tr>\n",
              "    <tr>\n",
              "      <th>thal</th>\n",
              "      <td>303.0</td>\n",
              "      <td>2.313531</td>\n",
              "      <td>0.612277</td>\n",
              "      <td>0.0</td>\n",
              "      <td>2.0</td>\n",
              "      <td>2.0</td>\n",
              "      <td>3.0</td>\n",
              "      <td>3.0</td>\n",
              "    </tr>\n",
              "    <tr>\n",
              "      <th>target</th>\n",
              "      <td>303.0</td>\n",
              "      <td>0.544554</td>\n",
              "      <td>0.498835</td>\n",
              "      <td>0.0</td>\n",
              "      <td>0.0</td>\n",
              "      <td>1.0</td>\n",
              "      <td>1.0</td>\n",
              "      <td>1.0</td>\n",
              "    </tr>\n",
              "  </tbody>\n",
              "</table>\n",
              "</div>"
            ],
            "text/plain": [
              "          count        mean        std    min    25%    50%    75%    max\n",
              "age       303.0   54.366337   9.082101   29.0   47.5   55.0   61.0   77.0\n",
              "sex       303.0    0.683168   0.466011    0.0    0.0    1.0    1.0    1.0\n",
              "cp        303.0    0.966997   1.032052    0.0    0.0    1.0    2.0    3.0\n",
              "trestbps  303.0  131.623762  17.538143   94.0  120.0  130.0  140.0  200.0\n",
              "chol      303.0  246.264026  51.830751  126.0  211.0  240.0  274.5  564.0\n",
              "fbs       303.0    0.148515   0.356198    0.0    0.0    0.0    0.0    1.0\n",
              "restecg   303.0    0.528053   0.525860    0.0    0.0    1.0    1.0    2.0\n",
              "thalach   303.0  149.646865  22.905161   71.0  133.5  153.0  166.0  202.0\n",
              "exang     303.0    0.326733   0.469794    0.0    0.0    0.0    1.0    1.0\n",
              "oldpeak   303.0    1.039604   1.161075    0.0    0.0    0.8    1.6    6.2\n",
              "slope     303.0    1.399340   0.616226    0.0    1.0    1.0    2.0    2.0\n",
              "ca        303.0    0.729373   1.022606    0.0    0.0    0.0    1.0    4.0\n",
              "thal      303.0    2.313531   0.612277    0.0    2.0    2.0    3.0    3.0\n",
              "target    303.0    0.544554   0.498835    0.0    0.0    1.0    1.0    1.0"
            ]
          },
          "metadata": {
            "tags": []
          },
          "execution_count": 6
        }
      ]
    },
    {
      "cell_type": "markdown",
      "metadata": {
        "id": "wvN3ISJ5UQHE"
      },
      "source": [
        "# **Exploratory Data Analysis** <a name=\"2\"></a>"
      ]
    },
    {
      "cell_type": "markdown",
      "metadata": {
        "id": "05jgB6kNW5-q"
      },
      "source": [
        "## **Heart Disease Status Counts**  <a name=\"3\"></a>"
      ]
    },
    {
      "cell_type": "code",
      "metadata": {
        "colab": {
          "base_uri": "https://localhost:8080/",
          "height": 457
        },
        "id": "vd_KJBceTAOV",
        "outputId": "2bcbe166-4c12-4b27-917a-9a246326e474"
      },
      "source": [
        "plt.figure(figsize=(10,7))\r\n",
        "hd_count = sns.countplot(x='target', palette='Set3',data=data_df)\r\n",
        "plt.xlabel('Heart Disease Status')\r\n",
        "plt.ylabel('Frequency')\r\n",
        "plt.title('Heart Disease Status Counts')\r\n",
        "hd_count.set(xticklabels = ['Does Not Have Heart Disease', 'Has Heart Disease'])\r\n",
        "plt.show()"
      ],
      "execution_count": null,
      "outputs": [
        {
          "output_type": "display_data",
          "data": {
            "image/png": "[encoded data removed]",
            "text/plain": [
              "<Figure size 720x504 with 1 Axes>"
            ]
          },
          "metadata": {
            "tags": [],
            "needs_background": "light"
          }
        }
      ]
    },
    {
      "cell_type": "code",
      "metadata": {
        "colab": {
          "base_uri": "https://localhost:8080/"
        },
        "id": "xFBHBmiPeRss",
        "outputId": "e186762f-cda6-491d-8b4e-a92bd88287ca"
      },
      "source": [
        "#locate just the heart disease patients\r\n",
        "has_hd = data_df['target'] == 1\r\n",
        "percent_hd = round((len(data_df[has_hd.values])/len(data_df))*100, 2)\r\n",
        "#investigate the amount of observations with heart disease\r\n",
        "print('There are {} observations of 303 total observations, or about {}% of observations, with heart disease.' .format(len(data_df.iloc[has_hd.values]), percent_hd))\r\n"
      ],
      "execution_count": null,
      "outputs": [
        {
          "output_type": "stream",
          "text": [
            "There are 165 observations of 303 total observations, or about 54.46% of observations, with heart disease.\n"
          ],
          "name": "stdout"
        }
      ]
    },
    {
      "cell_type": "markdown",
      "metadata": {
        "id": "4sPt0sDbesBK"
      },
      "source": [
        "### **Heart Disease Status Counts by Gender**"
      ]
    },
    {
      "cell_type": "code",
      "metadata": {
        "colab": {
          "base_uri": "https://localhost:8080/",
          "height": 457
        },
        "id": "n13I-C_Netyf",
        "outputId": "d3d356f6-7e23-40d1-cd0c-b211554d132c"
      },
      "source": [
        "# count plot on heart disease & gender\r\n",
        "plt.figure(figsize=(10,7))\r\n",
        "hd_gender = sns.countplot(x = 'target', hue = 'sex', palette='Set3', data = data_df)\r\n",
        "plt.xlabel('Heart Disease Status')\r\n",
        "plt.ylabel('Frequency')\r\n",
        "plt.title('Heart Disease Status Counts by Gender')\r\n",
        "hd_gender.set(xticklabels = ['Does Not Have Heart Disease', 'Has Heart Disease'])\r\n",
        "hd_gender.legend(['Female', 'Male'])\r\n",
        "plt.show()"
      ],
      "execution_count": null,
      "outputs": [
        {
          "output_type": "display_data",
          "data": {
            "image/png": "[encoded data removed]",
            "text/plain": [
              "<Figure size 720x504 with 1 Axes>"
            ]
          },
          "metadata": {
            "tags": [],
            "needs_background": "light"
          }
        }
      ]
    },
    {
      "cell_type": "code",
      "metadata": {
        "colab": {
          "base_uri": "https://localhost:8080/"
        },
        "id": "r5kRrFUke-Fa",
        "outputId": "68627b1b-02e5-42b3-ebfc-27ddd0603eb0"
      },
      "source": [
        "female_hd = (data_df['target'] == 1) & (data_df['sex'] == 0)\r\n",
        "male_hd = (data_df['target'] == 1) & (data_df['sex'] == 1)\r\n",
        "female = data_df['sex']==0\r\n",
        "male= data_df['sex']==1\r\n",
        "percent_female_hd = round((((len(data_df.iloc[female_hd.values]))/len(data_df.iloc[female.values]))*100),2)\r\n",
        "percent_male_hd = round((((len(data_df.iloc[male_hd.values]))/len(data_df.iloc[male.values]))*100),2)\r\n",
        "print('Tere are {} females of {} total females, roughly {}%, with heart disease.' .format(len(data_df.iloc[female_hd.values]), len(data_df.iloc[female.values]), percent_female_hd))\r\n",
        "print('There are {} males of {} total males, roughly {}%, with heart disease.' .format(len(data_df.iloc[male_hd.values]), len(data_df.iloc[male.values]), percent_male_hd))"
      ],
      "execution_count": null,
      "outputs": [
        {
          "output_type": "stream",
          "text": [
            "Tere are 72 females of 96 total females, roughly 75.0%, with heart disease.\n",
            "There are 93 males of 207 total males, roughly 44.93%, with heart disease.\n"
          ],
          "name": "stdout"
        }
      ]
    },
    {
      "cell_type": "markdown",
      "metadata": {
        "id": "aO9lLBDUC9LB"
      },
      "source": [
        "### **Is there a significant difference in rates of Heart Disease between genders?**\r\n",
        "\r\n",
        "\r\n",
        "*   $H_o:$ There is no difference in Heart Disease diagnosis rates between males and females.\r\n",
        "*   $H_a:$ There is a difference in Heart Disease diagnosis rates between males and females."
      ]
    },
    {
      "cell_type": "code",
      "metadata": {
        "colab": {
          "base_uri": "https://localhost:8080/"
        },
        "id": "m-bRqHNUC-Wm",
        "outputId": "045c6b06-375f-4684-d0f1-f86a32cc187e"
      },
      "source": [
        "#create a 2x2 matrix\r\n",
        "tab = pd.crosstab(data_df['sex'], data_df['target'])\r\n",
        "\r\n",
        "#conduct fisher exact statistical test\r\n",
        "odds_ratio, p_value = fisher_exact(tab)\r\n",
        "\r\n",
        "#view results\r\n",
        "if p_value < 0.5:\r\n",
        "  print('The p-value {} tells us there is a significant difference in Heart Disease diagnosis between genders.'.format(p_value))\r\n",
        "else:\r\n",
        "  print('The p-value {} tells us there is no significant difference in Heart Disease diagnosis between genders.'.format(p_value))"
      ],
      "execution_count": null,
      "outputs": [
        {
          "output_type": "stream",
          "text": [
            "The p-value 1.0422375771995582e-06 tells us there is a significant difference in Heart Disease diagnosis between genders.\n"
          ],
          "name": "stdout"
        }
      ]
    },
    {
      "cell_type": "code",
      "metadata": {
        "colab": {
          "base_uri": "https://localhost:8080/"
        },
        "id": "HamnpgN2KZWd",
        "outputId": "70cc0088-25d1-4a96-d845-66387006e542"
      },
      "source": [
        "#Logistic Regression Model to investiage probabilities\r\n",
        "\r\n",
        "#set target & feature(s) of model\r\n",
        "y = data_df.target\r\n",
        "x = data_df.sex\r\n",
        "\r\n",
        "#add constant\r\n",
        "x = sm.add_constant(x)\r\n",
        "\r\n",
        "#fit model\r\n",
        "results = sm.Logit(y, x).fit()\r\n",
        "\r\n",
        "#view results\r\n",
        "print(results.summary())"
      ],
      "execution_count": null,
      "outputs": [
        {
          "output_type": "stream",
          "text": [
            "Optimization terminated successfully.\n",
            "         Current function value: 0.648180\n",
            "         Iterations 5\n",
            "                           Logit Regression Results                           \n",
            "==============================================================================\n",
            "Dep. Variable:                 target   No. Observations:                  303\n",
            "Model:                          Logit   Df Residuals:                      301\n",
            "Method:                           MLE   Df Model:                            1\n",
            "Date:                Sun, 07 Feb 2021   Pseudo R-squ.:                 0.05948\n",
            "Time:                        20:30:19   Log-Likelihood:                -196.40\n",
            "converged:                       True   LL-Null:                       -208.82\n",
            "Covariance Type:            nonrobust   LLR p-value:                 6.226e-07\n",
            "==============================================================================\n",
            "                 coef    std err          z      P>|z|      [0.025      0.975]\n",
            "------------------------------------------------------------------------------\n",
            "const          1.0986      0.236      4.661      0.000       0.637       1.561\n",
            "sex           -1.3022      0.274     -4.752      0.000      -1.839      -0.765\n",
            "==============================================================================\n"
          ],
          "name": "stdout"
        }
      ]
    },
    {
      "cell_type": "markdown",
      "metadata": {
        "id": "5h9eVc7UKr7i"
      },
      "source": [
        "### **Conclusion**\r\n",
        "\r\n",
        "We've seen through visualizations and statistical testing that there is a significant difference between gender and heart disease diagnosis. The logistic regression summary show the likelihood of being diagnosed with heart disease increases by 1.56% when a patient is female."
      ]
    },
    {
      "cell_type": "markdown",
      "metadata": {
        "id": "h8KXML4_HHaH"
      },
      "source": [
        "## **Heart Disease & Maximum Heart Rate Achieved Relationship**  <a name=\"4\"></a>"
      ]
    },
    {
      "cell_type": "code",
      "metadata": {
        "id": "u72hwpYGhiV7",
        "colab": {
          "base_uri": "https://localhost:8080/",
          "height": 457
        },
        "outputId": "9262c806-3246-4682-9927-fd662f21c9c5"
      },
      "source": [
        "#distribution of thalach variable with hue of target variable\r\n",
        "plt.figure(figsize=(10,7))\r\n",
        "ax = sns.histplot(x = 'thalach', hue = 'target', palette='Set3', multiple='stack',\r\n",
        "    data = data_df, kde=True)\r\n",
        "plt.xlabel('Maximum Heart Rate Achieved')\r\n",
        "plt.ylabel('Frequency')\r\n",
        "plt.title('Heart Disease by Maximum Heart Rate Achieved')\r\n",
        "ax.legend(['Does Not Have Heart Disease', 'Has Heart Disease'])\r\n",
        "plt.show()"
      ],
      "execution_count": null,
      "outputs": [
        {
          "output_type": "display_data",
          "data": {
            "image/png": "[encoded data removed]",
            "text/plain": [
              "<Figure size 720x504 with 1 Axes>"
            ]
          },
          "metadata": {
            "tags": [],
            "needs_background": "light"
          }
        }
      ]
    },
    {
      "cell_type": "markdown",
      "metadata": {
        "id": "yfL9AFyEEJ2O"
      },
      "source": [
        "### **Is the Max Heart Rate Achieved variable normally distributed?**\r\n",
        "\r\n",
        "*  $H_o:$ Distribution is Normal\r\n",
        "*   $H_a:$ Distribution is Not Normal\r\n",
        "\r\n"
      ]
    },
    {
      "cell_type": "code",
      "metadata": {
        "colab": {
          "base_uri": "https://localhost:8080/"
        },
        "id": "tOLU_zXQNikB",
        "outputId": "6319103b-4779-468b-83c9-4975ad5ecfb8"
      },
      "source": [
        "#Is the thalac distribution normal?\r\n",
        "t,p=stats.shapiro(data_df['thalach'])\r\n",
        "\r\n",
        "#set up text wrapper for explanation of t-test because the explanation is long\r\n",
        "wrapper = textwrap.TextWrapper(width=80)\r\n",
        "\r\n",
        "#explanation of t-testing\r\n",
        "if np.round(p, decimals=2) < 0.05:\r\n",
        "  ttest_less = 'The p-value of {} is less than 0.05, so we reject the Null Hypothesis. There is sufficient evidence to support the thalach variable is not normally distributed.'.format(p, decimals=2)\r\n",
        "  ttest_less_str = wrapper.fill(text=ttest_less)\r\n",
        "  print(ttest_less_str)\r\n",
        "elif np.round(p, decimals=2) > 0.05:\r\n",
        "  ttest_more = 'The p-value of {} is greather than 0.05, so we fail to reject the Null Hypothesis. There is not sufficient evidence to suuport the thalach varaible is not normally distributed.'.format(p, decimals=2)\r\n",
        "  ttest_more_str = wrapper.fill(text=ttest_more)\r\n",
        "  print(ttest_more_str)"
      ],
      "execution_count": null,
      "outputs": [
        {
          "output_type": "stream",
          "text": [
            "The p-value of 6.620309432037175e-05 is less than 0.05, so we reject the Null\n",
            "Hypothesis. There is sufficient evidence to support the thalach variable is not\n",
            "normally distributed.\n"
          ],
          "name": "stdout"
        }
      ]
    },
    {
      "cell_type": "markdown",
      "metadata": {
        "id": "DmPAthiUeeb4"
      },
      "source": [
        "The sample size of 303 is relatively small, so it's important to also look at skewness and kurtosis. "
      ]
    },
    {
      "cell_type": "code",
      "metadata": {
        "colab": {
          "base_uri": "https://localhost:8080/"
        },
        "id": "bsjouogVE7bX",
        "outputId": "398064ac-75c9-4b5f-d04c-26b4cad4beb7"
      },
      "source": [
        "#investigate skewness of thalach variable\r\n",
        "thalach_k = np.round(data_df['thalach'].kurtosis(), decimals = 4)\r\n",
        "#print explanation of skewness\r\n",
        "if thalach_k < 0:\r\n",
        "  print('The Kurtosis value of {} tells us the thalach varaible is skewed left.'.format(thalach_k))\r\n",
        "elif thalach_k > 0:\r\n",
        "  print('The Kurtosis value of {} tells us the thalach variable is skewed right.'.format(thalach_k))"
      ],
      "execution_count": null,
      "outputs": [
        {
          "output_type": "stream",
          "text": [
            "The Kurtosis value of -0.062 tells us the thalach varaible is skewed left.\n"
          ],
          "name": "stdout"
        }
      ]
    },
    {
      "cell_type": "markdown",
      "metadata": {
        "id": "m06qDY9re638"
      },
      "source": [
        "The Kurtosis is slighlthy smaller than the threshold of 0.05. Paired with a small sample size, it seems reasonable to move forward with t-testing. "
      ]
    },
    {
      "cell_type": "markdown",
      "metadata": {
        "id": "fhWJyljOIDBG"
      },
      "source": [
        "### **Do observations with heart disease have different average max heart rate achieved than those without heart disease?**\r\n",
        "\r\n",
        "\r\n",
        "*   $H_o:$ There is no difference in the mean of thalach varaible among patients with heart disease and those without.\r\n",
        "*   $H_a:$ There is a difference in the mean of the talach variable among patients with heart disease and those without. "
      ]
    },
    {
      "cell_type": "code",
      "metadata": {
        "colab": {
          "base_uri": "https://localhost:8080/"
        },
        "id": "Llb_nhA-Iurn",
        "outputId": "b16fd836-82bc-4de8-cd1a-8a22832997b3"
      },
      "source": [
        "#split data_df into patients with and without heart disease\r\n",
        "has_hd = data_df[(data_df['target'] == 1)]\r\n",
        "no_hd = data_df[(data_df['target'] == 0)]\r\n",
        "#t-test on thalach varaible for those with and without heart disease\r\n",
        "thalach_ttest = stats.ttest_ind(has_hd['thalach'], no_hd['thalach'])\r\n",
        "\r\n",
        "#print explanation of t-test\r\n",
        "if thalach_ttest[1]<0.05:\r\n",
        "  reject = 'The test statistic of {} and p-value of {} tell us there is a low chance of observing a difference in the means as large as what is oberseved. The test is significant and there is sufficient evidence to support the means are different from each other. In other words, there is sufficient evidence to support rejecting the null hypothesis.'.format(np.round(thalach_ttest[0], decimals=4), thalach_ttest[1])\r\n",
        "  reject_str = wrapper.fill(text=reject)\r\n",
        "  print(reject_str)\r\n",
        "elif thalach_ttest[1]>0.05:\r\n",
        "  ftr = 'The test statistic of {} and p-value of {} tell us there is a good chance of observing a difference in the means as large as what is oberseved. The test is not significant and there is not sufficient evidence to support the means are different from each other. In other words, there is not sufficient evidence to support rejecting the null hypothesis.'.format(np.round(thalach_ttest[0], decimals=4), thalach_ttest[1])\r\n",
        "  ftr_str = wrapper.fill(text=ftr)\r\n",
        "  print(ftr_str)\r\n",
        "\r\n",
        "#print means of each group\r\n",
        "print()\r\n",
        "print('The mean maximum heart rate reached in patients without heart disease is:', np.round(no_hd['thalach'].mean(), decimals=2))\r\n",
        "print()\r\n",
        "print('The mean maximum heart rate reached in patients with heart diseas is:', np.round(has_hd['thalach'].mean(), decimals=2))"
      ],
      "execution_count": null,
      "outputs": [
        {
          "output_type": "stream",
          "text": [
            "The test statistic of 8.0697 and p-value of 1.697337638656049e-14 tell us there\n",
            "is a low chance of observing a difference in the means as large as what is\n",
            "oberseved. The test is significant and there is sufficient evidence to support\n",
            "the means are different from each other. In other words, there is sufficient\n",
            "evidence to support rejecting the null hypothesis.\n",
            "\n",
            "The mean maximum heart rate reached in patients without heart disease is: 139.1\n",
            "\n",
            "The mean maximum heart rate reached in patients with heart diseas is: 158.47\n"
          ],
          "name": "stdout"
        }
      ]
    },
    {
      "cell_type": "code",
      "metadata": {
        "colab": {
          "base_uri": "https://localhost:8080/",
          "height": 443
        },
        "id": "C3GmfDHDWlZR",
        "outputId": "e5aed643-42d2-4f8c-b31b-1fc7ab296441"
      },
      "source": [
        "#visualize difference\r\n",
        "plt.figure(figsize=(10,7))\r\n",
        "mean_thalach_diff = sns.pointplot(data= [no_hd['thalach'], has_hd['thalach']],\r\n",
        "                    join= False)\r\n",
        "mean_thalach_diff.set(xticklabels = ['Does Not Have Heart Disease', 'Has Heart Disease'])\r\n",
        "plt.ylabel('Max Heart Rate Achieved')\r\n",
        "plt.title('Max Heart Rate Achieved by Heart Disease Status')\r\n",
        "plt.show()\r\n"
      ],
      "execution_count": null,
      "outputs": [
        {
          "output_type": "display_data",
          "data": {
            "image/png": "[encoded data removed]",
            "text/plain": [
              "<Figure size 720x504 with 1 Axes>"
            ]
          },
          "metadata": {
            "tags": [],
            "needs_background": "light"
          }
        }
      ]
    },
    {
      "cell_type": "code",
      "metadata": {
        "colab": {
          "base_uri": "https://localhost:8080/"
        },
        "id": "HC-Bzu2_skGK",
        "outputId": "0d70a093-ee10-4894-cabd-ddfc22b1fb95"
      },
      "source": [
        "#compare descriptive statistics of thalach varaible for patients with & without heart disease\r\n",
        "print('-'*2, 'Descriptive Statistics of Max Heart Rate Achieved by Patietns without Heart Disease','-'*2)\r\n",
        "print(no_hd['thalach'].describe())\r\n",
        "\r\n",
        "print('-'*2, 'Descriptive Statistics of Max Heart Rate Achieved by Patietns with Heart Disease','-'*2)\r\n",
        "print(has_hd['thalach'].describe())"
      ],
      "execution_count": null,
      "outputs": [
        {
          "output_type": "stream",
          "text": [
            "-- Descriptive Statistics of Max Heart Rate Achieved by Patietns without Heart Disease --\n",
            "count    138.000000\n",
            "mean     139.101449\n",
            "std       22.598782\n",
            "min       71.000000\n",
            "25%      125.000000\n",
            "50%      142.000000\n",
            "75%      156.000000\n",
            "max      195.000000\n",
            "Name: thalach, dtype: float64\n",
            "-- Descriptive Statistics of Max Heart Rate Achieved by Patietns with Heart Disease --\n",
            "count    165.000000\n",
            "mean     158.466667\n",
            "std       19.174276\n",
            "min       96.000000\n",
            "25%      149.000000\n",
            "50%      161.000000\n",
            "75%      172.000000\n",
            "max      202.000000\n",
            "Name: thalach, dtype: float64\n"
          ],
          "name": "stdout"
        }
      ]
    },
    {
      "cell_type": "code",
      "metadata": {
        "colab": {
          "base_uri": "https://localhost:8080/"
        },
        "id": "t2jxj-icnfiD",
        "outputId": "84ea1620-1060-41b7-8146-9c3144cbe70f"
      },
      "source": [
        "#Logistic Regression Model to investiage probabilities\r\n",
        "\r\n",
        "#set target & feature(s) of model\r\n",
        "y = data_df.target\r\n",
        "x = data_df.thalach\r\n",
        "\r\n",
        "#add constant\r\n",
        "x = sm.add_constant(x)\r\n",
        "\r\n",
        "#fit model\r\n",
        "results = sm.Logit(y, x).fit()\r\n",
        "\r\n",
        "#view results\r\n",
        "print(results.summary())"
      ],
      "execution_count": null,
      "outputs": [
        {
          "output_type": "stream",
          "text": [
            "Optimization terminated successfully.\n",
            "         Current function value: 0.592833\n",
            "         Iterations 5\n",
            "                           Logit Regression Results                           \n",
            "==============================================================================\n",
            "Dep. Variable:                 target   No. Observations:                  303\n",
            "Model:                          Logit   Df Residuals:                      301\n",
            "Method:                           MLE   Df Model:                            1\n",
            "Date:                Wed, 27 Jan 2021   Pseudo R-squ.:                  0.1398\n",
            "Time:                        13:18:50   Log-Likelihood:                -179.63\n",
            "converged:                       True   LL-Null:                       -208.82\n",
            "Covariance Type:            nonrobust   LLR p-value:                 2.160e-14\n",
            "==============================================================================\n",
            "                 coef    std err          z      P>|z|      [0.025      0.975]\n",
            "------------------------------------------------------------------------------\n",
            "const         -6.3915      0.987     -6.475      0.000      -8.326      -4.457\n",
            "thalach        0.0440      0.007      6.729      0.000       0.031       0.057\n",
            "==============================================================================\n"
          ],
          "name": "stdout"
        }
      ]
    },
    {
      "cell_type": "markdown",
      "metadata": {
        "id": "M0RwHrItPE6r"
      },
      "source": [
        "### **Conclusion**\r\n",
        "\r\n",
        "We've seen through visualizations and statistical testing the max heart rate achieved is significantly different amongst patients with and without heart disease. The logistic regression summary show how as a patients max heart rate acheived increases by 1 unit, their chance of having heart disease increases by 4.4%."
      ]
    },
    {
      "cell_type": "markdown",
      "metadata": {
        "id": "uwA-M5_HsrTn"
      },
      "source": [
        "# **Correlations** <a name=\"5\"></a>"
      ]
    },
    {
      "cell_type": "code",
      "metadata": {
        "colab": {
          "base_uri": "https://localhost:8080/",
          "height": 158
        },
        "id": "_y7I291LvG_X",
        "outputId": "d407d65f-0907-44f1-c433-0900658bf905"
      },
      "source": [
        "#investigate correlations between target and remaining varaiables\r\n",
        "plt.figure(figsize=(16,1.5))\r\n",
        "sns.heatmap(pd.DataFrame(pd.DataFrame(data_df.corr()).target).T, annot=True, cmap='RdGy_r')\r\n",
        "sns.set(font_scale=1)\r\n",
        "plt.yticks(rotation=0)\r\n",
        "plt.xticks(rotation=45)\r\n",
        "plt.show()"
      ],
      "execution_count": null,
      "outputs": [
        {
          "output_type": "display_data",
          "data": {
            "image/png": "[encoded data removed]",
            "text/plain": [
              "<Figure size 1152x108 with 2 Axes>"
            ]
          },
          "metadata": {
            "tags": [],
            "needs_background": "light"
          }
        }
      ]
    },
    {
      "cell_type": "markdown",
      "metadata": {
        "id": "oaE-JxDXhBd0"
      },
      "source": [
        "**Conclusion**\r\n",
        "\r\n",
        "It appears that exercised induced angina has the strongest correlation with heart disease but all correlations are within the -0.5 to 0.5 range. "
      ]
    },
    {
      "cell_type": "markdown",
      "metadata": {
        "id": "Wlg5WE3QwlcW"
      },
      "source": [
        "# **Relationship Between Age and Heart Disease Status**  <a name=\"6\"></a>"
      ]
    },
    {
      "cell_type": "code",
      "metadata": {
        "colab": {
          "base_uri": "https://localhost:8080/",
          "height": 463
        },
        "id": "494SXy0XwhwY",
        "outputId": "e048339e-a1cf-4559-b3c5-30930179d892"
      },
      "source": [
        "#How is heart disease spread amongst age?\r\n",
        "plt.figure(figsize=(10,7))\r\n",
        "age_bp = sns.boxplot(x=data_df['target'], y=data_df['age'], palette='Set3', hue=data_df['target'])\r\n",
        "age_bp.set(xticklabels = ['Does Not Have Heart Disease', 'Has Heart Disease'])\r\n",
        "plt.xlabel('Heart Disease Status')\r\n",
        "plt.ylabel('Age')\r\n",
        "plt.title('Heart Disease Status by Age')\r\n",
        "plt.show()"
      ],
      "execution_count": null,
      "outputs": [
        {
          "output_type": "display_data",
          "data": {
            "image/png": "[encoded data removed]",
            "text/plain": [
              "<Figure size 720x504 with 1 Axes>"
            ]
          },
          "metadata": {
            "tags": []
          }
        }
      ]
    },
    {
      "cell_type": "code",
      "metadata": {
        "colab": {
          "base_uri": "https://localhost:8080/"
        },
        "id": "Qgh2VfuGEt8H",
        "outputId": "c616a1dd-fae9-4ffb-f6f0-a1b66b35ba68"
      },
      "source": [
        "#some of the descriptive statistics around age\r\n",
        "mean_age = data_df['age'].mean()\r\n",
        "min_age = data_df['age'].min()\r\n",
        "max_age = data_df['age'].max()\r\n",
        "\r\n",
        "print('The average age of patients in the data is: ', np.round(mean_age, decimals=1))\r\n",
        "print('The youngest patient in the data is: ', min_age)\r\n",
        "print('The oldest patient in the data is: ', max_age)"
      ],
      "execution_count": null,
      "outputs": [
        {
          "output_type": "stream",
          "text": [
            "The average age of patients in the data is:  54.4\n",
            "The youngest patient in the data is:  29\n",
            "The oldest patient in the data is:  77\n"
          ],
          "name": "stdout"
        }
      ]
    },
    {
      "cell_type": "code",
      "metadata": {
        "colab": {
          "base_uri": "https://localhost:8080/",
          "height": 463
        },
        "id": "uIYS5j5PF8y_",
        "outputId": "1faddac4-e71f-4e67-aee7-8c46efdf0621"
      },
      "source": [
        "#distribution of age variable with hue of target variable\r\n",
        "plt.figure(figsize=(10,7))\r\n",
        "ax = sns.histplot(x = 'age', hue = 'target', palette='Set3', multiple='stack',\r\n",
        "    data = data_df, kde=True)\r\n",
        "plt.xlabel('Age')\r\n",
        "plt.ylabel('Frequency')\r\n",
        "plt.title('Heart Disease by Age')\r\n",
        "ax.legend(['Does Not Have Heart Disease', 'Has Heart Disease'])\r\n",
        "plt.show()"
      ],
      "execution_count": null,
      "outputs": [
        {
          "output_type": "display_data",
          "data": {
            "image/png": "[encoded data removed]",
            "text/plain": [
              "<Figure size 720x504 with 1 Axes>"
            ]
          },
          "metadata": {
            "tags": []
          }
        }
      ]
    },
    {
      "cell_type": "markdown",
      "metadata": {
        "id": "NBDZGT4jGvdX"
      },
      "source": [
        "## **Is any one age group more prone to heart disease?**"
      ]
    },
    {
      "cell_type": "code",
      "metadata": {
        "colab": {
          "base_uri": "https://localhost:8080/"
        },
        "id": "85q7zi1tGlHd",
        "outputId": "867a942f-283e-46a7-d55a-b38afaea8593"
      },
      "source": [
        "#correlation between age & target\r\n",
        "age_corr = np.round(data_df['target'].corr(other=data_df['age']), decimals=3)\r\n",
        "if age_corr < 0:\r\n",
        "  corr_less =  'The Preason Correlation between age and heart disease is {} and tells us the chance of heart disease decreases as age increases.'.format(age_corr)\r\n",
        "  corr_less_str = wrapper.fill(text=corr_less)\r\n",
        "  print(corr_less_str)\r\n",
        "else:\r\n",
        "  corr_great = 'The Preason Correlation between age and heart disease is {} and tells us the chance of heart disease increases as age increases.'.format(age_corr)\r\n",
        "  corr_great_str = wrapper.fill(text=corr_great)\r\n",
        "  print(corr_great_str)"
      ],
      "execution_count": null,
      "outputs": [
        {
          "output_type": "stream",
          "text": [
            "The Preason Correlation between age and heart disease is -0.225 and tells us the\n",
            "chance of heart disease decreases as age increases.\n"
          ],
          "name": "stdout"
        }
      ]
    },
    {
      "cell_type": "markdown",
      "metadata": {
        "id": "8DVvSX1Jae4O"
      },
      "source": [
        "###**Is the Age amongst patients with and without heart disease normally distributed?**\r\n",
        "\r\n",
        "\r\n",
        "*  $H_o:$ Distributions are Normal\r\n",
        "*   $H_a:$ Distributions are Not Normal\r\n",
        "\r\n"
      ]
    },
    {
      "cell_type": "code",
      "metadata": {
        "colab": {
          "base_uri": "https://localhost:8080/"
        },
        "id": "nVwt_ruSae4O",
        "outputId": "91ec2d7f-67c3-47ec-90b1-c9f1595383a2"
      },
      "source": [
        "#It's important to check for normality so we know what kind of statistical\r\n",
        "#testing to perform. Test if patients without heart disease's age is normal.\r\n",
        "t,p=stats.shapiro(no_hd['age'])\r\n",
        "\r\n",
        "#set up text wrapper for explanation of t-test because the explanation is long\r\n",
        "wrapper = textwrap.TextWrapper(width=80)\r\n",
        "\r\n",
        "#explanation of t-testing\r\n",
        "if np.round(p, decimals=2) < 0.05:\r\n",
        "  ttest_less = 'The p-value for patients without heart disease is {} and is less than 0.05. Therefore, we reject the Null Hypothesis. There is sufficient evidence to support age is not normally distributed.'.format(p, decimals=2)\r\n",
        "  ttest_less_str = wrapper.fill(text=ttest_less)\r\n",
        "  print(ttest_less_str)\r\n",
        "elif np.round(p, decimals=2) > 0.05:\r\n",
        "  ttest_more = 'The p-value for patients without heart disease is {} and is greather than 0.05. Therefore, we fail to reject the Null Hypothesis. There is not sufficient evidence to suuport age is not normally distributed.'.format(p, decimals=2)\r\n",
        "  ttest_more_str = wrapper.fill(text=ttest_more)\r\n",
        "  print(ttest_more_str)"
      ],
      "execution_count": null,
      "outputs": [
        {
          "output_type": "stream",
          "text": [
            "The p-value for patients without heart disease is 0.002868534531444311 and is\n",
            "less than 0.05. Therefore, we reject the Null Hypothesis. There is sufficient\n",
            "evidence to support age is not normally distributed.\n"
          ],
          "name": "stdout"
        }
      ]
    },
    {
      "cell_type": "code",
      "metadata": {
        "colab": {
          "base_uri": "https://localhost:8080/"
        },
        "id": "6GCZwMt1dtRl",
        "outputId": "eee09f60-2f15-4ea2-b404-9135b50cdbb0"
      },
      "source": [
        "# Test if patients with heart disease's age is normal.\r\n",
        "t,p=stats.shapiro(has_hd['age'])\r\n",
        "\r\n",
        "#set up text wrapper for explanation of t-test because the explanation is long\r\n",
        "wrapper = textwrap.TextWrapper(width=80)\r\n",
        "\r\n",
        "#explanation of t-testing\r\n",
        "if np.round(p, decimals=2) < 0.05:\r\n",
        "  ttest_less = 'The p-value for patients with heart disease is {} and is less than 0.05. Therefore, we reject the Null Hypothesis. There is sufficient evidence to support age is not normally distributed.'.format(p, decimals=2)\r\n",
        "  ttest_less_str = wrapper.fill(text=ttest_less)\r\n",
        "  print(ttest_less_str)\r\n",
        "elif np.round(p, decimals=2) > 0.05:\r\n",
        "  ttest_more = 'The p-value for patients with heart disease is {} and is greather than 0.05. Therefore, we fail to reject the Null Hypothesis. There is not sufficient evidence to suuport age is not normally distributed.'.format(p, decimals=2)\r\n",
        "  ttest_more_str = wrapper.fill(text=ttest_more)\r\n",
        "  print(ttest_more_str)"
      ],
      "execution_count": null,
      "outputs": [
        {
          "output_type": "stream",
          "text": [
            "The p-value for patients with heart disease is 0.12112646549940109 and is\n",
            "greather than 0.05. Therefore, we fail to reject the Null Hypothesis. There is\n",
            "not sufficient evidence to suuport age is not normally distributed.\n"
          ],
          "name": "stdout"
        }
      ]
    },
    {
      "cell_type": "markdown",
      "metadata": {
        "id": "LCE4kvQJbEPm"
      },
      "source": [
        "We can see that the distribution of ages for patients without heart disease is not the same distribution as for the ages of patients with heart disease so we will have to perform some non-parametric testing to investigate if the mean age of those with and without heart disease is the same."
      ]
    },
    {
      "cell_type": "markdown",
      "metadata": {
        "id": "f0AomNFCaFZ_"
      },
      "source": [
        "### **Do observations with heart disease have different average age than those without heart disease?**\r\n",
        "\r\n",
        "\r\n",
        "*   $H_o:$ There is no difference in the mean age among patients with heart disease and those without.\r\n",
        "*   $H_a:$ There is a difference in the mean age among patients with heart disease and those without. "
      ]
    },
    {
      "cell_type": "code",
      "metadata": {
        "colab": {
          "base_uri": "https://localhost:8080/"
        },
        "id": "CQwGbAvYaFaH",
        "outputId": "f42f2abb-1156-49ab-b5cb-0e9c5b70edf6"
      },
      "source": [
        "#Mann-Whitney U Test\r\n",
        "mann_whitneyu = stats.mannwhitneyu(no_hd['age'],has_hd['age'])\r\n",
        "\r\n",
        "#print explanation of t-test\r\n",
        "if mann_whitneyu[1]<0.05:\r\n",
        "  reject = 'The test statistic of {} and p-value of {} tell us there is a low chance of observing a difference in the means as large as what is oberseved. The test is significant and there is sufficient evidence to support the mean ages of patients with and without heart disease are different from each other. In other words, there is sufficient evidence to support rejecting the null hypothesis.'.format(np.round(thalach_ttest[0], decimals=4), thalach_ttest[1])\r\n",
        "  reject_str = wrapper.fill(text=reject)\r\n",
        "  print(reject_str)\r\n",
        "else:\r\n",
        "  ftr = 'The test statistic of {} and p-value of {} tell us there is a good chance of observing a difference in the means as large as what is oberseved. The test is not significant and there is not sufficient evidence to support the mean ages with and without heart disease are different from each other. In other words, there is not sufficient evidence to support rejecting the null hypothesis.'.format(np.round(thalach_ttest[0], decimals=4), thalach_ttest[1])\r\n",
        "  ftr_str = wrapper.fill(text=ftr)\r\n",
        "  print(ftr_str)\r\n",
        "\r\n",
        "#print means of each group\r\n",
        "print()\r\n",
        "print('The mean age in patients without heart disease is:', np.round(no_hd['age'].mean(), decimals=2))\r\n",
        "print()\r\n",
        "print('The mean age in patients with heart diseas is:', np.round(has_hd['age'].mean(), decimals=2))"
      ],
      "execution_count": null,
      "outputs": [
        {
          "output_type": "stream",
          "text": [
            "The test statistic of 8.0697 and p-value of 1.697337638656049e-14 tell us there\n",
            "is a low chance of observing a difference in the means as large as what is\n",
            "oberseved. The test is significant and there is sufficient evidence to support\n",
            "the mean ages of patients with and without heart disease are different from each\n",
            "other. In other words, there is sufficient evidence to support rejecting the\n",
            "null hypothesis.\n",
            "\n",
            "The mean age in patients without heart disease is: 56.6\n",
            "\n",
            "The mean age in patients with heart diseas is: 52.5\n"
          ],
          "name": "stdout"
        }
      ]
    },
    {
      "cell_type": "code",
      "metadata": {
        "colab": {
          "base_uri": "https://localhost:8080/",
          "height": 447
        },
        "id": "9S74kEvCaFaI",
        "outputId": "42eff6a3-7571-4610-efd9-4e876188333b"
      },
      "source": [
        "#visualize difference\r\n",
        "plt.figure(figsize=(10,7))\r\n",
        "mean_age_diff = sns.pointplot(data= [no_hd['age'], has_hd['age']],\r\n",
        "                    join= False)\r\n",
        "mean_age_diff.set(xticklabels = ['Does Not Have Heart Disease', 'Has Heart Disease'])\r\n",
        "mean_age_diff.set(ylabel='Age')\r\n",
        "plt.title('Average Age by Heart Disease Status')\r\n",
        "plt.show()"
      ],
      "execution_count": null,
      "outputs": [
        {
          "output_type": "display_data",
          "data": {
            "image/png": "[encoded data removed]",
            "text/plain": [
              "<Figure size 720x504 with 1 Axes>"
            ]
          },
          "metadata": {
            "tags": []
          }
        }
      ]
    },
    {
      "cell_type": "code",
      "metadata": {
        "colab": {
          "base_uri": "https://localhost:8080/"
        },
        "id": "tZ7uVhRahDGk",
        "outputId": "0e875240-32fc-4c4a-dd97-9575ff520d73"
      },
      "source": [
        "#Logistic Regression Model to investiage probabilities\r\n",
        "\r\n",
        "#set target & feature(s) of model\r\n",
        "y = data_df.target\r\n",
        "x = data_df.age\r\n",
        "\r\n",
        "#add constant\r\n",
        "x = sm.add_constant(x)\r\n",
        "\r\n",
        "#fit model\r\n",
        "results = sm.Logit(y, x).fit()\r\n",
        "\r\n",
        "#view results\r\n",
        "print(results.summary())"
      ],
      "execution_count": null,
      "outputs": [
        {
          "output_type": "stream",
          "text": [
            "Optimization terminated successfully.\n",
            "         Current function value: 0.663138\n",
            "         Iterations 5\n",
            "                           Logit Regression Results                           \n",
            "==============================================================================\n",
            "Dep. Variable:                 target   No. Observations:                  303\n",
            "Model:                          Logit   Df Residuals:                      301\n",
            "Method:                           MLE   Df Model:                            1\n",
            "Date:                Wed, 27 Jan 2021   Pseudo R-squ.:                 0.03778\n",
            "Time:                        13:18:51   Log-Likelihood:                -200.93\n",
            "converged:                       True   LL-Null:                       -208.82\n",
            "Covariance Type:            nonrobust   LLR p-value:                 7.128e-05\n",
            "==============================================================================\n",
            "                 coef    std err          z      P>|z|      [0.025      0.975]\n",
            "------------------------------------------------------------------------------\n",
            "const          3.0362      0.756      4.014      0.000       1.554       4.519\n",
            "age           -0.0524      0.014     -3.841      0.000      -0.079      -0.026\n",
            "==============================================================================\n"
          ],
          "name": "stdout"
        }
      ]
    },
    {
      "cell_type": "markdown",
      "metadata": {
        "id": "0aJfAYjLhOJY"
      },
      "source": [
        "## **Conclusion**\r\n",
        "\r\n",
        "We've seen through visualizations and statistical testing that age is significantly different amongst patients with and without heart disease. The logistic regression summary shows us that as a patients increases by 1 year, after age 29, their chance of having heart disease decreases by 5.2%.\r\n",
        "\r\n",
        "In this light, it means that patients in younger age groups, are somewhat more likely to have heart disease than those in elder age groups. \r\n",
        "\r\n",
        "This might be attributed to the fact that if you live longer, you made it to an elder age by escaping disease. "
      ]
    },
    {
      "cell_type": "markdown",
      "metadata": {
        "id": "re7-V-NDuTPy"
      },
      "source": [
        "# **Explore Chest Pain**  <a name=\"7\"></a>"
      ]
    },
    {
      "cell_type": "code",
      "metadata": {
        "id": "GSRwJ3GzhNTr",
        "colab": {
          "base_uri": "https://localhost:8080/",
          "height": 412
        },
        "outputId": "916520b8-86ca-48d3-d464-18d4161a36e0"
      },
      "source": [
        "#What kind of chest pain did patients experience most?\r\n",
        "plt.figure(figsize=(10,7))\r\n",
        "labels = 'Asymptomatic', 'Atypical Angina', 'Non-Anginal Pain', 'Typical Angina'\r\n",
        "counts = list(data_df['cp'].value_counts().values)\r\n",
        "colors = ['orange', 'green', 'turquoise', 'purple']\r\n",
        "explode = (0.1, 0, 0, 0) #explode largest slice\r\n",
        "plt.pie(counts, explode=explode, labels=labels, colors=colors, autopct='%1.0f%%', \r\n",
        "        shadow= True, startangle = 140)\r\n",
        "plt.axis('equal')\r\n",
        "plt.show()"
      ],
      "execution_count": null,
      "outputs": [
        {
          "output_type": "display_data",
          "data": {
            "image/png": "[encoded data removed]",
            "text/plain": [
              "<Figure size 720x504 with 1 Axes>"
            ]
          },
          "metadata": {
            "tags": []
          }
        }
      ]
    },
    {
      "cell_type": "markdown",
      "metadata": {
        "id": "X132lym3wK09"
      },
      "source": [
        "Patients were most often asymptomatic in chest pain and if they were experiencing chest pain, it was most commonly Atypical Angina. "
      ]
    },
    {
      "cell_type": "markdown",
      "metadata": {
        "id": "zY5ISifrxSKc"
      },
      "source": [
        "# **Classification Model Testing**  <a name=\"8\"></a>"
      ]
    },
    {
      "cell_type": "markdown",
      "metadata": {
        "id": "-KR8sw8I9Zez"
      },
      "source": [
        "## **Prep Work for Supervised Learning Models** <a name=\"9\"></a>"
      ]
    },
    {
      "cell_type": "code",
      "metadata": {
        "colab": {
          "base_uri": "https://localhost:8080/"
        },
        "id": "dcsY5iBGxbpx",
        "outputId": "1b60d5a4-991d-47e5-ef00-1140b2c7e800"
      },
      "source": [
        "#set features & targets\r\n",
        "X=data_df.drop(['target'],1)\r\n",
        "y= data_df['target']\r\n",
        "y = y.astype(int)\r\n",
        "\r\n",
        "#split into training and testing sets\r\n",
        "X_train, X_test, y_train, y_test = train_test_split(X, y, test_size = 0.3, random_state = 24)\r\n",
        "\r\n",
        "#view shapes of training and test sets\r\n",
        "print('X_train shape: ', X_train.shape)\r\n",
        "print('y-train shape: ', y_train.shape)\r\n",
        "print('X_test shape: ', X_test.shape)\r\n",
        "print('y_test shape: ', y_test.shape)"
      ],
      "execution_count": null,
      "outputs": [
        {
          "output_type": "stream",
          "text": [
            "X_train shape:  (212, 13)\n",
            "y-train shape:  (212,)\n",
            "X_test shape:  (91, 13)\n",
            "y_test shape:  (91,)\n"
          ],
          "name": "stdout"
        }
      ]
    },
    {
      "cell_type": "code",
      "metadata": {
        "id": "enzKjwpIy5_1"
      },
      "source": [
        "#standardize the data\r\n",
        "scaler = StandardScaler()\r\n",
        "\r\n",
        "#fit training set\r\n",
        "scaler.fit(X_train)\r\n",
        "scaler.fit(X_test)\r\n",
        "\r\n",
        "#apply transformation to training and testing set\r\n",
        "X_train = scaler.transform(X_train)\r\n",
        "X_test = scaler.transform(X_test)"
      ],
      "execution_count": null,
      "outputs": []
    },
    {
      "cell_type": "markdown",
      "metadata": {
        "id": "BJ5Kxs78xWvQ"
      },
      "source": [
        "### **Model 1: Logistic Regression with 5 Fold Cross Validation**  <a name=\"10\"></a>"
      ]
    },
    {
      "cell_type": "code",
      "metadata": {
        "colab": {
          "base_uri": "https://localhost:8080/"
        },
        "id": "FW5TUSr99itA",
        "outputId": "27cd9969-a6e2-47a0-fc06-5ad602bdc0ba"
      },
      "source": [
        "#Use grid search to find best hyperparameters\r\n",
        "# defining parameter range \r\n",
        "param_grid = {'C': [0.001,0.01,0.1,1,10,100],\r\n",
        " 'penalty': ['l1','l2','elasticnet','none'],\r\n",
        " 'solver': ['lbfgs', 'liblinear'],\r\n",
        " 'multi_class':['ovr'],\r\n",
        " 'max_iter': [1000],\r\n",
        " 'random_state': [52]}  \r\n",
        "  \r\n",
        "grid = GridSearchCV(LogisticRegression(), param_grid, refit = True, verbose=1) \r\n",
        "  \r\n",
        "# fitting the model for grid search \r\n",
        "grid.fit(X_train, y_train) \r\n",
        "# print best parameter after tuning \r\n",
        "print(grid.best_params_) \r\n",
        "  \r\n",
        "# print how our model looks after hyper-parameter tuning \r\n",
        "print(grid.best_estimator_) "
      ],
      "execution_count": null,
      "outputs": [
        {
          "output_type": "stream",
          "text": [
            "Fitting 5 folds for each of 48 candidates, totalling 240 fits\n"
          ],
          "name": "stdout"
        },
        {
          "output_type": "stream",
          "text": [
            "[Parallel(n_jobs=1)]: Using backend SequentialBackend with 1 concurrent workers.\n"
          ],
          "name": "stderr"
        },
        {
          "output_type": "stream",
          "text": [
            "{'C': 0.01, 'max_iter': 1000, 'multi_class': 'ovr', 'penalty': 'l2', 'random_state': 52, 'solver': 'lbfgs'}\n",
            "LogisticRegression(C=0.01, class_weight=None, dual=False, fit_intercept=True,\n",
            "                   intercept_scaling=1, l1_ratio=None, max_iter=1000,\n",
            "                   multi_class='ovr', n_jobs=None, penalty='l2',\n",
            "                   random_state=52, solver='lbfgs', tol=0.0001, verbose=0,\n",
            "                   warm_start=False)\n"
          ],
          "name": "stdout"
        },
        {
          "output_type": "stream",
          "text": [
            "[Parallel(n_jobs=1)]: Done 240 out of 240 | elapsed:    0.4s finished\n"
          ],
          "name": "stderr"
        }
      ]
    },
    {
      "cell_type": "code",
      "metadata": {
        "colab": {
          "base_uri": "https://localhost:8080/"
        },
        "id": "RlxzUqu-y9Ki",
        "outputId": "c6325577-cd45-40d4-c227-562b951f8240"
      },
      "source": [
        "#Instanstiate LogisticRegression classifier\r\n",
        "lr_clf = LogisticRegression(C= 0.01, penalty='l2', solver = 'lbfgs', multi_class = 'ovr', max_iter=1000)\r\n",
        "lr_clf.fit(X_train, y_train)\r\n",
        "\r\n",
        "#cross validate\r\n",
        "lr_cv_scores = cross_val_score(lr_clf, X_train, y_train, cv = 5)\r\n",
        "\r\n",
        "print('Accuracy Scores for the 5 folds: ', lr_cv_scores)\r\n",
        "print('Mean Cross Validation Score: {:.33f}'.format(np.mean(lr_cv_scores)))"
      ],
      "execution_count": null,
      "outputs": [
        {
          "output_type": "stream",
          "text": [
            "Accuracy Scores for the 5 folds:  [0.86046512 0.76744186 0.73809524 0.95238095 0.83333333]\n",
            "Mean Cross Validation Score: 0.830343300110741977526629398198565\n"
          ],
          "name": "stdout"
        }
      ]
    },
    {
      "cell_type": "code",
      "metadata": {
        "colab": {
          "base_uri": "https://localhost:8080/"
        },
        "id": "4XJwuAYwzCmj",
        "outputId": "75c42676-7259-4591-a2b4-31a4120dee57"
      },
      "source": [
        "#generate predictions\r\n",
        "lr_preds = lr_clf.predict(X_test)\r\n",
        "\r\n",
        "#get score report on predictions\r\n",
        "lr_report = classification_report(y_test, lr_preds)\r\n",
        "print(lr_report)"
      ],
      "execution_count": null,
      "outputs": [
        {
          "output_type": "stream",
          "text": [
            "              precision    recall  f1-score   support\n",
            "\n",
            "           0       0.90      0.67      0.77        42\n",
            "           1       0.77      0.94      0.84        49\n",
            "\n",
            "    accuracy                           0.81        91\n",
            "   macro avg       0.83      0.80      0.81        91\n",
            "weighted avg       0.83      0.81      0.81        91\n",
            "\n"
          ],
          "name": "stdout"
        }
      ]
    },
    {
      "cell_type": "code",
      "metadata": {
        "colab": {
          "base_uri": "https://localhost:8080/",
          "height": 92
        },
        "id": "RM7aLX5MzEGZ",
        "outputId": "443efb6c-3903-4bc9-9531-e1b962159832"
      },
      "source": [
        "#more performance metrics\r\n",
        "lr_score_train = lr_clf.score(X_train, y_train)\r\n",
        "lr_score_test = lr_clf.score(X_test, y_test)\r\n",
        "lr_prec_test = precision_score(y_test, lr_preds, average='weighted')\r\n",
        "lr_recall_test = recall_score(y_test, lr_preds, average='weighted')\r\n",
        "lr_f1_test = f1_score(y_test, lr_preds, average='weighted')\r\n",
        "lr_rsquared_train = lr_clf.score(X_train, y_train)\r\n",
        "lr_rsquared_test = lr_clf.score(X_test, y_test)\r\n",
        "lr_mae = mean_absolute_error(y_test, lr_preds)\r\n",
        "lr_mse = mse(y_test, lr_preds)\r\n",
        "lr_rmse = rmse(y_test, lr_preds)\r\n",
        "\r\n",
        "#create easily readable display of performance metrics\r\n",
        "lr_dictionary = {'Training Set Accuracy': lr_score_train, \r\n",
        "  'Test Set Accuracy': lr_score_test, 'Testing Set Precision': lr_prec_test, \r\n",
        "  'Testing Set Recall': lr_recall_test, 'Testing Set F1':lr_f1_test, \r\n",
        "  'Training Set R Squared': lr_rsquared_train, \r\n",
        "  'Test Set R Squared': lr_rsquared_test, 'Mean Absolute Error': lr_mae, \r\n",
        "  'Mean Sqaured Error': lr_mse, 'Root Mean Squared Error': lr_rmse}\r\n",
        "\r\n",
        "lr_df = pd.DataFrame(lr_dictionary, index=[0])\r\n",
        "\r\n",
        "lr_df"
      ],
      "execution_count": null,
      "outputs": [
        {
          "output_type": "execute_result",
          "data": {
            "text/html": [
              "<div>\n",
              "<style scoped>\n",
              "    .dataframe tbody tr th:only-of-type {\n",
              "        vertical-align: middle;\n",
              "    }\n",
              "\n",
              "    .dataframe tbody tr th {\n",
              "        vertical-align: top;\n",
              "    }\n",
              "\n",
              "    .dataframe thead th {\n",
              "        text-align: right;\n",
              "    }\n",
              "</style>\n",
              "<table border=\"1\" class=\"dataframe\">\n",
              "  <thead>\n",
              "    <tr style=\"text-align: right;\">\n",
              "      <th></th>\n",
              "      <th>Training Set Accuracy</th>\n",
              "      <th>Test Set Accuracy</th>\n",
              "      <th>Testing Set Precision</th>\n",
              "      <th>Testing Set Recall</th>\n",
              "      <th>Testing Set F1</th>\n",
              "      <th>Training Set R Squared</th>\n",
              "      <th>Test Set R Squared</th>\n",
              "      <th>Mean Absolute Error</th>\n",
              "      <th>Mean Sqaured Error</th>\n",
              "      <th>Root Mean Squared Error</th>\n",
              "    </tr>\n",
              "  </thead>\n",
              "  <tbody>\n",
              "    <tr>\n",
              "      <th>0</th>\n",
              "      <td>0.839623</td>\n",
              "      <td>0.813187</td>\n",
              "      <td>0.829694</td>\n",
              "      <td>0.813187</td>\n",
              "      <td>0.808538</td>\n",
              "      <td>0.839623</td>\n",
              "      <td>0.813187</td>\n",
              "      <td>0.186813</td>\n",
              "      <td>0.186813</td>\n",
              "      <td>0.432219</td>\n",
              "    </tr>\n",
              "  </tbody>\n",
              "</table>\n",
              "</div>"
            ],
            "text/plain": [
              "   Training Set Accuracy  ...  Root Mean Squared Error\n",
              "0               0.839623  ...                 0.432219\n",
              "\n",
              "[1 rows x 10 columns]"
            ]
          },
          "metadata": {
            "tags": []
          },
          "execution_count": 34
        }
      ]
    },
    {
      "cell_type": "markdown",
      "metadata": {
        "id": "lIFq6WSuvDQ7"
      },
      "source": [
        "###**Model 2: Random Forest Classifier with 5 Fold Cross Validation**  <a name=\"11\"></a>"
      ]
    },
    {
      "cell_type": "code",
      "metadata": {
        "colab": {
          "base_uri": "https://localhost:8080/"
        },
        "id": "iWBOSa-y6dNi",
        "outputId": "4a15f2d1-403a-4b5a-d96d-6d322046c18f"
      },
      "source": [
        "#Use grid search to find best hyperparameters\r\n",
        "# defining parameter range \r\n",
        "param_grid = {'bootstrap': [True, False],\r\n",
        " 'max_depth': [10, 20, 30, 40, 50, None],\r\n",
        " 'max_features': ['auto', 'sqrt'],\r\n",
        " 'min_samples_leaf': [1, 2, 4],\r\n",
        " 'min_samples_split': [2, 5, 10],\r\n",
        " 'n_estimators': [0,20,40,60,80,100,120,140,160,180,200],\r\n",
        " 'random_state': [52]}  \r\n",
        "  \r\n",
        "grid = GridSearchCV(RandomForestClassifier(), param_grid, refit = True, verbose=1) \r\n",
        "  \r\n",
        "# fitting the model for grid search \r\n",
        "grid.fit(X_train, y_train) \r\n",
        "# print best parameter after tuning \r\n",
        "print(grid.best_params_) \r\n",
        "  \r\n",
        "# print how our model looks after hyper-parameter tuning \r\n",
        "print(grid.best_estimator_) "
      ],
      "execution_count": null,
      "outputs": [
        {
          "output_type": "stream",
          "text": [
            "[Parallel(n_jobs=1)]: Using backend SequentialBackend with 1 concurrent workers.\n"
          ],
          "name": "stderr"
        },
        {
          "output_type": "stream",
          "text": [
            "Fitting 5 folds for each of 2376 candidates, totalling 11880 fits\n"
          ],
          "name": "stdout"
        },
        {
          "output_type": "stream",
          "text": [
            "[Parallel(n_jobs=1)]: Done 11880 out of 11880 | elapsed: 23.8min finished\n"
          ],
          "name": "stderr"
        },
        {
          "output_type": "stream",
          "text": [
            "{'bootstrap': True, 'max_depth': 10, 'max_features': 'auto', 'min_samples_leaf': 4, 'min_samples_split': 2, 'n_estimators': 180, 'random_state': 52}\n",
            "RandomForestClassifier(bootstrap=True, ccp_alpha=0.0, class_weight=None,\n",
            "                       criterion='gini', max_depth=10, max_features='auto',\n",
            "                       max_leaf_nodes=None, max_samples=None,\n",
            "                       min_impurity_decrease=0.0, min_impurity_split=None,\n",
            "                       min_samples_leaf=4, min_samples_split=2,\n",
            "                       min_weight_fraction_leaf=0.0, n_estimators=180,\n",
            "                       n_jobs=None, oob_score=False, random_state=52, verbose=0,\n",
            "                       warm_start=False)\n"
          ],
          "name": "stdout"
        }
      ]
    },
    {
      "cell_type": "code",
      "metadata": {
        "id": "2hbPe9HjvMzT",
        "colab": {
          "base_uri": "https://localhost:8080/"
        },
        "outputId": "e41a03e3-f8c1-4a86-fdbd-734c1c31feef"
      },
      "source": [
        "#Instanstiate RandomForest classifier\n",
        "rf_clf = RandomForestClassifier(n_estimators= 180, min_samples_split=2, \n",
        "        min_samples_leaf= 4, max_features= 'auto', max_depth=10, bootstrap= True,\n",
        "        random_state = 52)\n",
        "rf_clf.fit(X_train, y_train)\n",
        "\n",
        "#cross validate\n",
        "rf_cv_scores = cross_val_score(rf_clf, X_train, y_train, cv = 5)\n",
        "\n",
        "print('Accuracy Scores for the 5 folds: ', rf_cv_scores)\n",
        "print('Mean Cross Validation Score: {:.33f}'.format(np.mean(rf_cv_scores)))"
      ],
      "execution_count": null,
      "outputs": [
        {
          "output_type": "stream",
          "text": [
            "Accuracy Scores for the 5 folds:  [0.8372093  0.81395349 0.76190476 0.95238095 0.83333333]\n",
            "Mean Cross Validation Score: 0.839756367663344382989976111275610\n"
          ],
          "name": "stdout"
        }
      ]
    },
    {
      "cell_type": "code",
      "metadata": {
        "id": "swKZ4W0iyP7R",
        "colab": {
          "base_uri": "https://localhost:8080/"
        },
        "outputId": "19cf3731-ed39-4089-e8cc-a84e4f7cdbcd"
      },
      "source": [
        "#generate predictions\n",
        "rf_preds = rf_clf.predict(X_test)\n",
        "\n",
        "#get score report on predictions\n",
        "rf_report = classification_report(y_test, rf_preds)\n",
        "print(rf_report)"
      ],
      "execution_count": null,
      "outputs": [
        {
          "output_type": "stream",
          "text": [
            "              precision    recall  f1-score   support\n",
            "\n",
            "           0       0.86      0.71      0.78        42\n",
            "           1       0.79      0.90      0.84        49\n",
            "\n",
            "    accuracy                           0.81        91\n",
            "   macro avg       0.82      0.81      0.81        91\n",
            "weighted avg       0.82      0.81      0.81        91\n",
            "\n"
          ],
          "name": "stdout"
        }
      ]
    },
    {
      "cell_type": "code",
      "metadata": {
        "id": "GV-buW3-8V-B",
        "colab": {
          "base_uri": "https://localhost:8080/",
          "height": 92
        },
        "outputId": "f1db8b19-281f-4492-a88d-4b3de51596b9"
      },
      "source": [
        "#more performance metrics\n",
        "rf_score_train = rf_clf.score(X_train, y_train)\n",
        "rf_score_test = rf_clf.score(X_test, y_test)\n",
        "rf_prec_test = precision_score(y_test, rf_preds, average='weighted')\n",
        "rf_recall_test = recall_score(y_test, rf_preds, average='weighted')\n",
        "rf_f1_test = f1_score(y_test, rf_preds, average='weighted')\n",
        "rf_rsquared_train = rf_clf.score(X_train, y_train)\n",
        "rf_rsquared_test = rf_clf.score(X_test, y_test)\n",
        "rf_mae = mean_absolute_error(y_test, rf_preds)\n",
        "rf_mse = mse(y_test, rf_preds)\n",
        "rf_rmse = rmse(y_test, rf_preds)\n",
        "rf_mape = np.mean(np.abs((y_test - rf_preds)/y_test)*100)\n",
        "\n",
        "#create easily readable display of performance metrics\n",
        "rf_dictionary = {'Training Set Accuracy': rf_score_train, \n",
        "  'Test Set Accuracy': rf_score_test, 'Testing Set Precision': rf_prec_test, \n",
        "  'Testing Set Recall': rf_recall_test, 'Testing Set F1':rf_f1_test,\n",
        " 'Training Set R Squared': rf_rsquared_train, \n",
        "  'Test Set R Squared': rf_rsquared_test, 'Mean Absolute Error': rf_mae, \n",
        "  'Mean Sqaured Error': rf_mse, 'Root Mean Squared Error': rf_rmse}\n",
        "\n",
        "rf_df = pd.DataFrame(rf_dictionary, index=[0])\n",
        "\n",
        "rf_df"
      ],
      "execution_count": null,
      "outputs": [
        {
          "output_type": "execute_result",
          "data": {
            "text/html": [
              "<div>\n",
              "<style scoped>\n",
              "    .dataframe tbody tr th:only-of-type {\n",
              "        vertical-align: middle;\n",
              "    }\n",
              "\n",
              "    .dataframe tbody tr th {\n",
              "        vertical-align: top;\n",
              "    }\n",
              "\n",
              "    .dataframe thead th {\n",
              "        text-align: right;\n",
              "    }\n",
              "</style>\n",
              "<table border=\"1\" class=\"dataframe\">\n",
              "  <thead>\n",
              "    <tr style=\"text-align: right;\">\n",
              "      <th></th>\n",
              "      <th>Training Set Accuracy</th>\n",
              "      <th>Test Set Accuracy</th>\n",
              "      <th>Testing Set Precision</th>\n",
              "      <th>Testing Set Recall</th>\n",
              "      <th>Testing Set F1</th>\n",
              "      <th>Training Set R Squared</th>\n",
              "      <th>Test Set R Squared</th>\n",
              "      <th>Mean Absolute Error</th>\n",
              "      <th>Mean Sqaured Error</th>\n",
              "      <th>Root Mean Squared Error</th>\n",
              "    </tr>\n",
              "  </thead>\n",
              "  <tbody>\n",
              "    <tr>\n",
              "      <th>0</th>\n",
              "      <td>0.919811</td>\n",
              "      <td>0.813187</td>\n",
              "      <td>0.818681</td>\n",
              "      <td>0.813187</td>\n",
              "      <td>0.810922</td>\n",
              "      <td>0.919811</td>\n",
              "      <td>0.813187</td>\n",
              "      <td>0.186813</td>\n",
              "      <td>0.186813</td>\n",
              "      <td>0.432219</td>\n",
              "    </tr>\n",
              "  </tbody>\n",
              "</table>\n",
              "</div>"
            ],
            "text/plain": [
              "   Training Set Accuracy  ...  Root Mean Squared Error\n",
              "0               0.919811  ...                 0.432219\n",
              "\n",
              "[1 rows x 10 columns]"
            ]
          },
          "metadata": {
            "tags": []
          },
          "execution_count": 38
        }
      ]
    },
    {
      "cell_type": "markdown",
      "metadata": {
        "id": "h3kh7ruj_9N2"
      },
      "source": [
        "### **Model 3: K Nearest Neighbors with 5 Fold Cross Validation**  <a name=\"12\"></a>"
      ]
    },
    {
      "cell_type": "code",
      "metadata": {
        "colab": {
          "base_uri": "https://localhost:8080/"
        },
        "id": "djcClk8W4bPA",
        "outputId": "004fd624-b864-4998-9e6f-c62963aefbec"
      },
      "source": [
        "#Use grid search to find best hyperparameters\r\n",
        "# defining parameter range \r\n",
        "param_grid = {'n_neighbors': [3,5,10,15],  \r\n",
        "              'weights': ['uniform', 'distance'], \r\n",
        "              'metric': ['euclidean', 'manhattan']}  \r\n",
        "  \r\n",
        "grid = GridSearchCV(KNeighborsClassifier(), param_grid, refit = True, verbose=1) \r\n",
        "  \r\n",
        "# fitting the model for grid search \r\n",
        "grid.fit(X_train, y_train) \r\n",
        "# print best parameter after tuning \r\n",
        "print(grid.best_params_) \r\n",
        "  \r\n",
        "# print how our model looks after hyper-parameter tuning \r\n",
        "print(grid.best_estimator_) "
      ],
      "execution_count": null,
      "outputs": [
        {
          "output_type": "stream",
          "text": [
            "Fitting 5 folds for each of 16 candidates, totalling 80 fits\n"
          ],
          "name": "stdout"
        },
        {
          "output_type": "stream",
          "text": [
            "[Parallel(n_jobs=1)]: Using backend SequentialBackend with 1 concurrent workers.\n"
          ],
          "name": "stderr"
        },
        {
          "output_type": "stream",
          "text": [
            "{'metric': 'manhattan', 'n_neighbors': 5, 'weights': 'uniform'}\n",
            "KNeighborsClassifier(algorithm='auto', leaf_size=30, metric='manhattan',\n",
            "                     metric_params=None, n_jobs=None, n_neighbors=5, p=2,\n",
            "                     weights='uniform')\n"
          ],
          "name": "stdout"
        },
        {
          "output_type": "stream",
          "text": [
            "[Parallel(n_jobs=1)]: Done  80 out of  80 | elapsed:    0.2s finished\n"
          ],
          "name": "stderr"
        }
      ]
    },
    {
      "cell_type": "code",
      "metadata": {
        "id": "XY2jOWNdACbq",
        "colab": {
          "base_uri": "https://localhost:8080/"
        },
        "outputId": "6aae3950-3165-4ac1-8373-ee499cc9fdf9"
      },
      "source": [
        "#validate best value for k\n",
        "rmse_val = [] #to store rmse values for different k\n",
        "for K in range (10):\n",
        "  K = K+1\n",
        "  model = neighbors.KNeighborsClassifier(n_neighbors = K, metric='manhattan')\n",
        "  model.fit(X_train, y_train) #fit the model\n",
        "  preds = model.predict(X_test) #make predictions on test set\n",
        "  error = rmse(y_test, preds) #calculate rmse\n",
        "  rmse_val.append(error) #store rmse values\n",
        "  print('RMSe Value for K= ', K, 'is ', error)\n",
        "\n"
      ],
      "execution_count": null,
      "outputs": [
        {
          "output_type": "stream",
          "text": [
            "RMSe Value for K=  1 is  0.4916891718944416\n",
            "RMSe Value for K=  2 is  0.4803844614152614\n",
            "RMSe Value for K=  3 is  0.4447495899966607\n",
            "RMSe Value for K=  4 is  0.4447495899966607\n",
            "RMSe Value for K=  5 is  0.40599897147057507\n",
            "RMSe Value for K=  6 is  0.4447495899966607\n",
            "RMSe Value for K=  7 is  0.4322189107537832\n",
            "RMSe Value for K=  8 is  0.4322189107537832\n",
            "RMSe Value for K=  9 is  0.4193139346887673\n",
            "RMSe Value for K=  10 is  0.40599897147057507\n"
          ],
          "name": "stdout"
        }
      ]
    },
    {
      "cell_type": "code",
      "metadata": {
        "id": "zcmX3J8oEy9H",
        "colab": {
          "base_uri": "https://localhost:8080/",
          "height": 283
        },
        "outputId": "8a56c10b-bedd-4574-888a-e2fca328dbac"
      },
      "source": [
        "#plotting the rmse values (y) against k values (x)\n",
        "curve = pd.DataFrame(rmse_val) #elbow curve \n",
        "curve.plot()"
      ],
      "execution_count": null,
      "outputs": [
        {
          "output_type": "execute_result",
          "data": {
            "text/plain": [
              "<matplotlib.axes._subplots.AxesSubplot at 0x7f117c705b38>"
            ]
          },
          "metadata": {
            "tags": []
          },
          "execution_count": 41
        },
        {
          "output_type": "display_data",
          "data": {
            "image/png": "[encoded data removed]",
            "text/plain": [
              "<Figure size 432x288 with 1 Axes>"
            ]
          },
          "metadata": {
            "tags": []
          }
        }
      ]
    },
    {
      "cell_type": "code",
      "metadata": {
        "id": "pEnkcx6ZFHrt",
        "colab": {
          "base_uri": "https://localhost:8080/"
        },
        "outputId": "420da7e0-497c-415d-e7bd-74d5b02019e3"
      },
      "source": [
        "#set model with ideal number of neighbors from above\n",
        "knn_clf = neighbors. KNeighborsClassifier(n_neighbors =5, metric='manhattan')\n",
        "knn_clf.fit(X_train, y_train)\n",
        "\n",
        "#cross validate\n",
        "knn_cv_scores = cross_val_score(knn_clf, X_train, y_train, cv = 5)\n",
        "\n",
        "print('Accuracy Scores for the 5 folds: ', knn_cv_scores)\n",
        "print('Mean Cross Validation Score: {:.33f}'.format(np.mean(knn_cv_scores)))"
      ],
      "execution_count": null,
      "outputs": [
        {
          "output_type": "stream",
          "text": [
            "Accuracy Scores for the 5 folds:  [0.79069767 0.81395349 0.83333333 0.92857143 0.92857143]\n",
            "Mean Cross Validation Score: 0.859025470653377754004509370133746\n"
          ],
          "name": "stdout"
        }
      ]
    },
    {
      "cell_type": "code",
      "metadata": {
        "id": "bBlnYFrzFaZk",
        "colab": {
          "base_uri": "https://localhost:8080/"
        },
        "outputId": "ef3db2f5-ed6f-4a54-aec0-66aa4c3efe9f"
      },
      "source": [
        "#generate predictions\n",
        "knn_preds = knn_clf.predict(X_test)\n",
        "\n",
        "#get score report on predictions\n",
        "knn_report = classification_report(y_test, knn_preds)\n",
        "print(knn_report)"
      ],
      "execution_count": null,
      "outputs": [
        {
          "output_type": "stream",
          "text": [
            "              precision    recall  f1-score   support\n",
            "\n",
            "           0       0.86      0.76      0.81        42\n",
            "           1       0.81      0.90      0.85        49\n",
            "\n",
            "    accuracy                           0.84        91\n",
            "   macro avg       0.84      0.83      0.83        91\n",
            "weighted avg       0.84      0.84      0.83        91\n",
            "\n"
          ],
          "name": "stdout"
        }
      ]
    },
    {
      "cell_type": "code",
      "metadata": {
        "id": "mOkFWIjdV00C",
        "colab": {
          "base_uri": "https://localhost:8080/",
          "height": 108
        },
        "outputId": "c19427c7-f393-4a8b-a2fa-36c30ba00479"
      },
      "source": [
        "#more performance metrics\n",
        "knn_score_train = knn_clf.score(X_train, y_train)\n",
        "knn_score_test = knn_clf.score(X_test, y_test)\n",
        "knn_prec_test = precision_score(y_test, knn_preds, average='weighted')\n",
        "knn_recall_test = recall_score(y_test, knn_preds, average='weighted')\n",
        "knn_f1_test = f1_score(y_test, knn_preds, average='weighted')\n",
        "knn_rsquared_train = knn_clf.score(X_train, y_train)\n",
        "knn_rsquared_test = knn_clf.score(X_test, y_test)\n",
        "knn_mae = mean_absolute_error(y_test, knn_preds)\n",
        "knn_mse = mse(y_test, knn_preds)\n",
        "knn_rmse = rmse(y_test, knn_preds)\n",
        "knn_mape = np.mean(np.abs((y_test - knn_preds)/y_test)*100)\n",
        "\n",
        "#create easily readable display of performance metrics\n",
        "knn_dictionary = {'Training Set Accuracy': knn_score_train, \n",
        "  'Test Set Accuracy': knn_score_test, 'Testing Set Precision': knn_prec_test, \n",
        "  'Testing Set Recall': knn_recall_test, 'Testing Set F1':knn_f1_test,\n",
        " 'Training Set R Squared': knn_rsquared_train, \n",
        "  'Test Set R Squared': knn_rsquared_test, 'Mean Absolute Error': knn_mae, \n",
        "  'Mean Sqaured Error': knn_mse, 'Root Mean Squared Error': knn_rmse,\n",
        "  'Mean Absolute Percentage Error': knn_mape}\n",
        "\n",
        "knn_df = pd.DataFrame(knn_dictionary, index=[0])\n",
        "\n",
        "knn_df"
      ],
      "execution_count": null,
      "outputs": [
        {
          "output_type": "execute_result",
          "data": {
            "text/html": [
              "<div>\n",
              "<style scoped>\n",
              "    .dataframe tbody tr th:only-of-type {\n",
              "        vertical-align: middle;\n",
              "    }\n",
              "\n",
              "    .dataframe tbody tr th {\n",
              "        vertical-align: top;\n",
              "    }\n",
              "\n",
              "    .dataframe thead th {\n",
              "        text-align: right;\n",
              "    }\n",
              "</style>\n",
              "<table border=\"1\" class=\"dataframe\">\n",
              "  <thead>\n",
              "    <tr style=\"text-align: right;\">\n",
              "      <th></th>\n",
              "      <th>Training Set Accuracy</th>\n",
              "      <th>Test Set Accuracy</th>\n",
              "      <th>Testing Set Precision</th>\n",
              "      <th>Testing Set Recall</th>\n",
              "      <th>Testing Set F1</th>\n",
              "      <th>Training Set R Squared</th>\n",
              "      <th>Test Set R Squared</th>\n",
              "      <th>Mean Absolute Error</th>\n",
              "      <th>Mean Sqaured Error</th>\n",
              "      <th>Root Mean Squared Error</th>\n",
              "      <th>Mean Absolute Percentage Error</th>\n",
              "    </tr>\n",
              "  </thead>\n",
              "  <tbody>\n",
              "    <tr>\n",
              "      <th>0</th>\n",
              "      <td>0.896226</td>\n",
              "      <td>0.835165</td>\n",
              "      <td>0.837915</td>\n",
              "      <td>0.835165</td>\n",
              "      <td>0.833949</td>\n",
              "      <td>0.896226</td>\n",
              "      <td>0.835165</td>\n",
              "      <td>0.164835</td>\n",
              "      <td>0.164835</td>\n",
              "      <td>0.405999</td>\n",
              "      <td>inf</td>\n",
              "    </tr>\n",
              "  </tbody>\n",
              "</table>\n",
              "</div>"
            ],
            "text/plain": [
              "   Training Set Accuracy  ...  Mean Absolute Percentage Error\n",
              "0               0.896226  ...                             inf\n",
              "\n",
              "[1 rows x 11 columns]"
            ]
          },
          "metadata": {
            "tags": []
          },
          "execution_count": 44
        }
      ]
    },
    {
      "cell_type": "markdown",
      "metadata": {
        "id": "8fzrYbVge1Hg"
      },
      "source": [
        "### **Model 4: Support Vector Machine with 5 Fold Cross Validation**  <a name=\"13\"></a>"
      ]
    },
    {
      "cell_type": "code",
      "metadata": {
        "colab": {
          "base_uri": "https://localhost:8080/"
        },
        "id": "OYVCpc2Pna2h",
        "outputId": "4fd430c5-b8c6-4bcb-9806-abfdd33e3a33"
      },
      "source": [
        "#Use grid search to find best hyperparameters\r\n",
        "# defining parameter range \r\n",
        "param_grid = {'C': [0.1, 1, 10, 100, 1000],  \r\n",
        "              'gamma': [1, 0.1, 0.01, 0.001, 0.0001], \r\n",
        "              'kernel': ['rbf', 'linear'],\r\n",
        "              'decision_function_shape': ['ovo','ovr']}  \r\n",
        "  \r\n",
        "grid = GridSearchCV(SVC(), param_grid, refit = True, verbose=1) \r\n",
        "  \r\n",
        "# fitting the model for grid search \r\n",
        "grid.fit(X_train, y_train) \r\n",
        "# print best parameter after tuning \r\n",
        "print(grid.best_params_) \r\n",
        "  \r\n",
        "# print how our model looks after hyper-parameter tuning \r\n",
        "print(grid.best_estimator_) "
      ],
      "execution_count": null,
      "outputs": [
        {
          "output_type": "stream",
          "text": [
            "Fitting 5 folds for each of 100 candidates, totalling 500 fits\n"
          ],
          "name": "stdout"
        },
        {
          "output_type": "stream",
          "text": [
            "[Parallel(n_jobs=1)]: Using backend SequentialBackend with 1 concurrent workers.\n"
          ],
          "name": "stderr"
        },
        {
          "output_type": "stream",
          "text": [
            "{'C': 100, 'decision_function_shape': 'ovo', 'gamma': 1, 'kernel': 'linear'}\n",
            "SVC(C=100, break_ties=False, cache_size=200, class_weight=None, coef0=0.0,\n",
            "    decision_function_shape='ovo', degree=3, gamma=1, kernel='linear',\n",
            "    max_iter=-1, probability=False, random_state=None, shrinking=True,\n",
            "    tol=0.001, verbose=False)\n"
          ],
          "name": "stdout"
        },
        {
          "output_type": "stream",
          "text": [
            "[Parallel(n_jobs=1)]: Done 500 out of 500 | elapsed:   59.5s finished\n"
          ],
          "name": "stderr"
        }
      ]
    },
    {
      "cell_type": "code",
      "metadata": {
        "colab": {
          "base_uri": "https://localhost:8080/"
        },
        "id": "DsW_X9ZloVOP",
        "outputId": "38a6ceee-a19d-42c1-a100-d662f1c9ca11"
      },
      "source": [
        "#set model with ideal number of neighbors from above\r\n",
        "svm_clf = svm.SVC(kernel = 'linear', C=100, gamma= 1, \r\n",
        "            decision_function_shape='ovo', random_state=52)\r\n",
        "svm_clf.fit(X_train, y_train)\r\n",
        "\r\n",
        "#cross validate\r\n",
        "svm_cv_scores = cross_val_score(svm_clf, X_train, y_train, cv = 5)\r\n",
        "\r\n",
        "print('Accuracy Scores for the 5 folds: ', svm_cv_scores)\r\n",
        "print('Mean Cross Validation Score: {:.33f}'.format(np.mean(svm_cv_scores)))"
      ],
      "execution_count": null,
      "outputs": [
        {
          "output_type": "stream",
          "text": [
            "Accuracy Scores for the 5 folds:  [0.88372093 0.76744186 0.78571429 0.97619048 0.78571429]\n",
            "Mean Cross Validation Score: 0.839756367663344382989976111275610\n"
          ],
          "name": "stdout"
        }
      ]
    },
    {
      "cell_type": "code",
      "metadata": {
        "id": "fgLFi-h7e_5n",
        "colab": {
          "base_uri": "https://localhost:8080/"
        },
        "outputId": "ecbcb7bb-35a7-4105-c1cd-7a2b16cb1e52"
      },
      "source": [
        "#generate predictions\n",
        "svm_preds = svm_clf.predict(X_test)\n",
        "\n",
        "#get score report on predictions\n",
        "svm_report = classification_report(y_test, svm_preds)\n",
        "print(svm_report)"
      ],
      "execution_count": null,
      "outputs": [
        {
          "output_type": "stream",
          "text": [
            "              precision    recall  f1-score   support\n",
            "\n",
            "           0       0.91      0.74      0.82        42\n",
            "           1       0.81      0.94      0.87        49\n",
            "\n",
            "    accuracy                           0.85        91\n",
            "   macro avg       0.86      0.84      0.84        91\n",
            "weighted avg       0.86      0.85      0.84        91\n",
            "\n"
          ],
          "name": "stdout"
        }
      ]
    },
    {
      "cell_type": "code",
      "metadata": {
        "id": "TjnCBy5nfB_T",
        "colab": {
          "base_uri": "https://localhost:8080/",
          "height": 92
        },
        "outputId": "5e0c94d1-fd70-44e8-ce4f-bd2731d4db53"
      },
      "source": [
        "#more performance metrics\n",
        "svm_score_train = svm_clf.score(X_train, y_train)\n",
        "svm_score_test = svm_clf.score(X_test, y_test)\n",
        "svm_prec_test = precision_score(y_test, svm_preds, average='weighted')\n",
        "svm_recall_test = recall_score(y_test, svm_preds, average='weighted')\n",
        "svm_f1_test = f1_score(y_test, svm_preds, average='weighted')\n",
        "svm_rsquared_train = svm_clf.score(X_train, y_train)\n",
        "svm_rsquared_test = svm_clf.score(X_test, y_test)\n",
        "svm_mae = mean_absolute_error(y_test, svm_preds)\n",
        "svm_mse = mse(y_test, svm_preds)\n",
        "svm_rmse = rmse(y_test, svm_preds)\n",
        "svm_mape = np.mean(np.abs((y_test - svm_preds)/y_test)*100)\n",
        "\n",
        "#create easily readable display of performance metrics\n",
        "svm_dictionary = {'Training Set Accuracy': svm_score_train, \n",
        "  'Test Set Accuracy': svm_score_test, 'Testing Set Precision': svm_prec_test, \n",
        "  'Testing Set Recall': svm_recall_test, 'Testing Set F1':svm_f1_test,\n",
        "  'Training Set R Squared': svm_rsquared_train, \n",
        "  'Test Set R Squared': svm_rsquared_test,'Mean Absolute Error': svm_mae, \n",
        "  'Mean Sqaured Error': svm_mse,  'Root Mean Squared Error': svm_rmse}\n",
        "\n",
        "svm_df = pd.DataFrame(svm_dictionary, index=[0])\n",
        "\n",
        "svm_df"
      ],
      "execution_count": null,
      "outputs": [
        {
          "output_type": "execute_result",
          "data": {
            "text/html": [
              "<div>\n",
              "<style scoped>\n",
              "    .dataframe tbody tr th:only-of-type {\n",
              "        vertical-align: middle;\n",
              "    }\n",
              "\n",
              "    .dataframe tbody tr th {\n",
              "        vertical-align: top;\n",
              "    }\n",
              "\n",
              "    .dataframe thead th {\n",
              "        text-align: right;\n",
              "    }\n",
              "</style>\n",
              "<table border=\"1\" class=\"dataframe\">\n",
              "  <thead>\n",
              "    <tr style=\"text-align: right;\">\n",
              "      <th></th>\n",
              "      <th>Training Set Accuracy</th>\n",
              "      <th>Test Set Accuracy</th>\n",
              "      <th>Testing Set Precision</th>\n",
              "      <th>Testing Set Recall</th>\n",
              "      <th>Testing Set F1</th>\n",
              "      <th>Training Set R Squared</th>\n",
              "      <th>Test Set R Squared</th>\n",
              "      <th>Mean Absolute Error</th>\n",
              "      <th>Mean Sqaured Error</th>\n",
              "      <th>Root Mean Squared Error</th>\n",
              "    </tr>\n",
              "  </thead>\n",
              "  <tbody>\n",
              "    <tr>\n",
              "      <th>0</th>\n",
              "      <td>0.863208</td>\n",
              "      <td>0.846154</td>\n",
              "      <td>0.855362</td>\n",
              "      <td>0.846154</td>\n",
              "      <td>0.843862</td>\n",
              "      <td>0.863208</td>\n",
              "      <td>0.846154</td>\n",
              "      <td>0.153846</td>\n",
              "      <td>0.153846</td>\n",
              "      <td>0.392232</td>\n",
              "    </tr>\n",
              "  </tbody>\n",
              "</table>\n",
              "</div>"
            ],
            "text/plain": [
              "   Training Set Accuracy  ...  Root Mean Squared Error\n",
              "0               0.863208  ...                 0.392232\n",
              "\n",
              "[1 rows x 10 columns]"
            ]
          },
          "metadata": {
            "tags": []
          },
          "execution_count": 48
        }
      ]
    },
    {
      "cell_type": "markdown",
      "metadata": {
        "id": "UOC_nuLfHKNu"
      },
      "source": [
        "### **Model 5: Gradient Boosting with 5 Fold Cross Validation**  <a name=\"14\"></a>"
      ]
    },
    {
      "cell_type": "code",
      "metadata": {
        "colab": {
          "base_uri": "https://localhost:8080/"
        },
        "id": "6UHSo1FAra06",
        "outputId": "941dfa4e-29d1-4ff1-e8e0-27731632bc9a"
      },
      "source": [
        "#Use grid search to find best hyperparameters\r\n",
        "# defining parameter range \r\n",
        "param_grid = {'n_estimators': [100, 200, 300, 400, 500, 1000],\r\n",
        "          'max_depth': [2, 3, 4, 5],\r\n",
        "          'loss': ['deviance', 'exponential'],\r\n",
        "          'learning_rate':[0.1, 0.2, 0.3, 0.4, 0.5], \r\n",
        "          'max_features':[None, 'auto', 2, 3, 4, 5],\r\n",
        "          'random_state':[52]}\r\n",
        "\r\n",
        "grid = GridSearchCV(GradientBoostingClassifier(), param_grid, cv=5, refit=True, verbose=1) \r\n",
        "  \r\n",
        "# fitting the model for grid search \r\n",
        "grid.fit(X_train, y_train) \r\n",
        "# print best parameter after tuning \r\n",
        "print(grid.best_params_) \r\n",
        "  \r\n",
        "# print how our model looks after hyper-parameter tuning \r\n",
        "print(grid.best_estimator_) "
      ],
      "execution_count": null,
      "outputs": [
        {
          "output_type": "stream",
          "text": [
            "Fitting 5 folds for each of 1440 candidates, totalling 7200 fits\n"
          ],
          "name": "stdout"
        },
        {
          "output_type": "stream",
          "text": [
            "[Parallel(n_jobs=1)]: Using backend SequentialBackend with 1 concurrent workers.\n"
          ],
          "name": "stderr"
        },
        {
          "output_type": "stream",
          "text": [
            "{'learning_rate': 0.1, 'loss': 'exponential', 'max_depth': 2, 'max_features': 2, 'n_estimators': 200, 'random_state': 52}\n",
            "GradientBoostingClassifier(ccp_alpha=0.0, criterion='friedman_mse', init=None,\n",
            "                           learning_rate=0.1, loss='exponential', max_depth=2,\n",
            "                           max_features=2, max_leaf_nodes=None,\n",
            "                           min_impurity_decrease=0.0, min_impurity_split=None,\n",
            "                           min_samples_leaf=1, min_samples_split=2,\n",
            "                           min_weight_fraction_leaf=0.0, n_estimators=200,\n",
            "                           n_iter_no_change=None, presort='deprecated',\n",
            "                           random_state=52, subsample=1.0, tol=0.0001,\n",
            "                           validation_fraction=0.1, verbose=0,\n",
            "                           warm_start=False)\n"
          ],
          "name": "stdout"
        },
        {
          "output_type": "stream",
          "text": [
            "[Parallel(n_jobs=1)]: Done 7200 out of 7200 | elapsed: 21.3min finished\n"
          ],
          "name": "stderr"
        }
      ]
    },
    {
      "cell_type": "code",
      "metadata": {
        "id": "EnTRp5WtHUBl",
        "colab": {
          "base_uri": "https://localhost:8080/"
        },
        "outputId": "bafd38e5-b998-46dc-93de-0686f579ab96"
      },
      "source": [
        "#set model parameters\n",
        "params = {'n_estimators': 200,\n",
        "          'max_depth': 2,\n",
        "          'loss': 'exponential',\n",
        "          'learning_rate':0.1, \n",
        "          'max_features':2,\n",
        "          'random_state':52}\n",
        "\n",
        "#set model \n",
        "gb_clf = ensemble.GradientBoostingClassifier(**params)\n",
        "gb_clf.fit(X_train, y_train)\n",
        "\n",
        "#cross validate\n",
        "gb_cv_scores = cross_val_score(gb_clf, X_train, y_train, cv = 5)\n",
        "\n",
        "print('Accuracy Scores for the 5 folds: ', gb_cv_scores)\n",
        "print('Mean Cross Validation Score: {:.33f}'.format(np.mean(gb_cv_scores)))"
      ],
      "execution_count": null,
      "outputs": [
        {
          "output_type": "stream",
          "text": [
            "Accuracy Scores for the 5 folds:  [0.8372093  0.74418605 0.78571429 0.95238095 0.85714286]\n",
            "Mean Cross Validation Score: 0.835326688815060891535324572032550\n"
          ],
          "name": "stdout"
        }
      ]
    },
    {
      "cell_type": "code",
      "metadata": {
        "id": "SZuqW5PdHXF9",
        "colab": {
          "base_uri": "https://localhost:8080/"
        },
        "outputId": "3def2522-cb46-4b20-b06e-1f4beb6895a8"
      },
      "source": [
        "#generate predictions\n",
        "gb_preds = gb_clf.predict(X_test)\n",
        "\n",
        "#get score report on predictions\n",
        "gb_report = classification_report(y_test, gb_preds)\n",
        "print(gb_report)"
      ],
      "execution_count": null,
      "outputs": [
        {
          "output_type": "stream",
          "text": [
            "              precision    recall  f1-score   support\n",
            "\n",
            "           0       0.83      0.81      0.82        42\n",
            "           1       0.84      0.86      0.85        49\n",
            "\n",
            "    accuracy                           0.84        91\n",
            "   macro avg       0.83      0.83      0.83        91\n",
            "weighted avg       0.84      0.84      0.84        91\n",
            "\n"
          ],
          "name": "stdout"
        }
      ]
    },
    {
      "cell_type": "code",
      "metadata": {
        "id": "lC8EUQ3SHYcp",
        "colab": {
          "base_uri": "https://localhost:8080/",
          "height": 92
        },
        "outputId": "05c58be6-d6e9-4adb-e56f-a94b2bd9df49"
      },
      "source": [
        "#more performance metrics\n",
        "gb_score_train = gb_clf.score(X_train, y_train)\n",
        "gb_score_test = gb_clf.score(X_test, y_test)\n",
        "gb_prec_test = precision_score(y_test, gb_preds, average='weighted')\n",
        "gb_recall_test = recall_score(y_test, gb_preds, average='weighted')\n",
        "gb_f1_test = f1_score(y_test, gb_preds, average='weighted')\n",
        "gb_rsquared_train = gb_clf.score(X_train, y_train)\n",
        "gb_rsquared_test = gb_clf.score(X_test, y_test)\n",
        "gb_mae = mean_absolute_error(y_test, gb_preds)\n",
        "gb_mse = mse(y_test, gb_preds)\n",
        "gb_rmse = rmse(y_test, gb_preds)\n",
        "gb_mape = np.mean(np.abs((y_test - gb_preds)/y_test)*100)\n",
        "\n",
        "#create easily readable display of performance metrics\n",
        "gb_dictionary = {'Training Set Accuracy': gb_score_train, \n",
        "  'Test Set Accuracy': gb_score_test, 'Testing Set Precision': gb_prec_test, \n",
        "  'Testing Set Recall': gb_recall_test, 'Testing Set F1':gb_f1_test,\n",
        " 'Training Set R Squared': gb_rsquared_train, \n",
        "  'Test Set R Squared': gb_rsquared_test,'Mean Absolute Error': gb_mae, \n",
        "  'Mean Sqaured Error': gb_mse, 'Root Mean Squared Error': gb_rmse}\n",
        "\n",
        "gb_df = pd.DataFrame(gb_dictionary, index=[0])\n",
        "\n",
        "gb_df"
      ],
      "execution_count": null,
      "outputs": [
        {
          "output_type": "execute_result",
          "data": {
            "text/html": [
              "<div>\n",
              "<style scoped>\n",
              "    .dataframe tbody tr th:only-of-type {\n",
              "        vertical-align: middle;\n",
              "    }\n",
              "\n",
              "    .dataframe tbody tr th {\n",
              "        vertical-align: top;\n",
              "    }\n",
              "\n",
              "    .dataframe thead th {\n",
              "        text-align: right;\n",
              "    }\n",
              "</style>\n",
              "<table border=\"1\" class=\"dataframe\">\n",
              "  <thead>\n",
              "    <tr style=\"text-align: right;\">\n",
              "      <th></th>\n",
              "      <th>Training Set Accuracy</th>\n",
              "      <th>Test Set Accuracy</th>\n",
              "      <th>Testing Set Precision</th>\n",
              "      <th>Testing Set Recall</th>\n",
              "      <th>Testing Set F1</th>\n",
              "      <th>Training Set R Squared</th>\n",
              "      <th>Test Set R Squared</th>\n",
              "      <th>Mean Absolute Error</th>\n",
              "      <th>Mean Sqaured Error</th>\n",
              "      <th>Root Mean Squared Error</th>\n",
              "    </tr>\n",
              "  </thead>\n",
              "  <tbody>\n",
              "    <tr>\n",
              "      <th>0</th>\n",
              "      <td>0.971698</td>\n",
              "      <td>0.835165</td>\n",
              "      <td>0.835047</td>\n",
              "      <td>0.835165</td>\n",
              "      <td>0.835004</td>\n",
              "      <td>0.971698</td>\n",
              "      <td>0.835165</td>\n",
              "      <td>0.164835</td>\n",
              "      <td>0.164835</td>\n",
              "      <td>0.405999</td>\n",
              "    </tr>\n",
              "  </tbody>\n",
              "</table>\n",
              "</div>"
            ],
            "text/plain": [
              "   Training Set Accuracy  ...  Root Mean Squared Error\n",
              "0               0.971698  ...                 0.405999\n",
              "\n",
              "[1 rows x 10 columns]"
            ]
          },
          "metadata": {
            "tags": []
          },
          "execution_count": 52
        }
      ]
    },
    {
      "cell_type": "code",
      "metadata": {
        "id": "Zyu34YksIuEU",
        "colab": {
          "base_uri": "https://localhost:8080/",
          "height": 1000
        },
        "outputId": "fa6d37d1-7050-4759-bd82-367f28172ed1"
      },
      "source": [
        "#feature importance\n",
        "feature_importance = gb_clf.feature_importances_\n",
        "\n",
        "#make importances relative to max importance\n",
        "plt.figure(figsize=(15,20))\n",
        "sorted_idx = np.argsort(feature_importance)\n",
        "pos = np.arange(sorted_idx.shape[0]) + .5\n",
        "plt.subplot(1, 2, 2)\n",
        "plt.barh(pos, feature_importance[sorted_idx], align='center')\n",
        "plt.yticks(pos, X.columns[sorted_idx])\n",
        "plt.xlabel('Relative Importance')\n",
        "plt.title('Variable Importance')\n",
        "plt.show()"
      ],
      "execution_count": null,
      "outputs": [
        {
          "output_type": "display_data",
          "data": {
            "image/png": "[encoded data removed]",
            "text/plain": [
              "<Figure size 1080x1440 with 1 Axes>"
            ]
          },
          "metadata": {
            "tags": []
          }
        }
      ]
    },
    {
      "cell_type": "markdown",
      "metadata": {
        "id": "ka5OOXCwNaWt"
      },
      "source": [
        "### **Model 6: Ridge Classifier with 5 Fold Cross Validation**  <a name=\"15\"></a>"
      ]
    },
    {
      "cell_type": "code",
      "metadata": {
        "id": "DLE7rEKkOQBE",
        "colab": {
          "base_uri": "https://localhost:8080/"
        },
        "outputId": "0476a3ed-9f27-4266-a266-7761f0153990"
      },
      "source": [
        "#Tuning Regularization Parameter\n",
        "alphas = [np.power(10.0,p) for p in np.arange(-10,40,1)]\n",
        "\n",
        "#set model with ideal number of neighbors from above\n",
        "ridge_clf = RidgeClassifierCV(alphas= alphas, cv = 5)\n",
        "ridge_clf.fit(X_train, y_train)\n",
        "\n",
        "#cross validate\n",
        "ridge_cv_scores = cross_val_score(svm_clf, X_train, y_train, cv = 5)\n",
        "\n",
        "print('Best alpha value is: {}'.format(ridge_clf.alpha_))\n",
        "print('Accuracy Scores for the 5 folds: ', ridge_cv_scores)\n",
        "print('Mean Cross Validation Score: {:.33f}'.format(np.mean(ridge_cv_scores)))"
      ],
      "execution_count": null,
      "outputs": [
        {
          "output_type": "stream",
          "text": [
            "Best alpha value is: 10.0\n",
            "Accuracy Scores for the 5 folds:  [0.88372093 0.76744186 0.78571429 0.97619048 0.78571429]\n",
            "Mean Cross Validation Score: 0.839756367663344382989976111275610\n"
          ],
          "name": "stdout"
        }
      ]
    },
    {
      "cell_type": "code",
      "metadata": {
        "id": "EAwjxUp7OQBI",
        "colab": {
          "base_uri": "https://localhost:8080/"
        },
        "outputId": "72a205e1-1726-4be7-cfb8-d119e34194a0"
      },
      "source": [
        "#generate predictions\n",
        "ridge_preds = ridge_clf.predict(X_test)\n",
        "\n",
        "#get score report on predictions\n",
        "ridge_report = classification_report(y_test, ridge_preds)\n",
        "print(ridge_report)"
      ],
      "execution_count": null,
      "outputs": [
        {
          "output_type": "stream",
          "text": [
            "              precision    recall  f1-score   support\n",
            "\n",
            "           0       0.91      0.69      0.78        42\n",
            "           1       0.78      0.94      0.85        49\n",
            "\n",
            "    accuracy                           0.82        91\n",
            "   macro avg       0.84      0.81      0.82        91\n",
            "weighted avg       0.84      0.82      0.82        91\n",
            "\n"
          ],
          "name": "stdout"
        }
      ]
    },
    {
      "cell_type": "code",
      "metadata": {
        "id": "r72xeH_JOQBK",
        "colab": {
          "base_uri": "https://localhost:8080/",
          "height": 92
        },
        "outputId": "f3a51b02-74eb-4e6a-f0fa-0d8cf488e11c"
      },
      "source": [
        "#more performance metrics\n",
        "ridge_score_train = ridge_clf.score(X_train, y_train)\n",
        "ridge_score_test = ridge_clf.score(X_test, y_test)\n",
        "ridge_prec_test = precision_score(y_test, ridge_preds, average='weighted')\n",
        "ridge_recall_test = recall_score(y_test, ridge_preds, average='weighted')\n",
        "ridge_f1_test = f1_score(y_test, ridge_preds, average='weighted')\n",
        "ridge_rsquared_train = ridge_clf.score(X_train, y_train)\n",
        "ridge_rsquared_test = ridge_clf.score(X_test, y_test)\n",
        "ridge_mae = mean_absolute_error(y_test, ridge_preds)\n",
        "ridge_mse = mse(y_test, ridge_preds)\n",
        "ridge_rmse = rmse(y_test, ridge_preds)\n",
        "ridge_mape = np.mean(np.abs((y_test - ridge_preds)/y_test)*100)\n",
        "\n",
        "#create easily readable display of performance metrics\n",
        "ridge_dictionary = {'Training Set Accuracy': ridge_score_train, \n",
        "  'Test Set Accuracy': ridge_score_test, 'Testing Set Precision': ridge_prec_test, \n",
        "  'Testing Set Recall': ridge_recall_test, 'Testing Set F1':ridge_f1_test,\n",
        " 'Training Set R Squared': ridge_rsquared_train, \n",
        "  'Test Set R Squared': ridge_rsquared_test,'Mean Absolute Error': ridge_mae, \n",
        "  'Mean Sqaured Error': ridge_mse,  'Root Mean Squared Error': ridge_rmse}\n",
        "\n",
        "ridge_df = pd.DataFrame(ridge_dictionary, index=[0])\n",
        "\n",
        "ridge_df"
      ],
      "execution_count": null,
      "outputs": [
        {
          "output_type": "execute_result",
          "data": {
            "text/html": [
              "<div>\n",
              "<style scoped>\n",
              "    .dataframe tbody tr th:only-of-type {\n",
              "        vertical-align: middle;\n",
              "    }\n",
              "\n",
              "    .dataframe tbody tr th {\n",
              "        vertical-align: top;\n",
              "    }\n",
              "\n",
              "    .dataframe thead th {\n",
              "        text-align: right;\n",
              "    }\n",
              "</style>\n",
              "<table border=\"1\" class=\"dataframe\">\n",
              "  <thead>\n",
              "    <tr style=\"text-align: right;\">\n",
              "      <th></th>\n",
              "      <th>Training Set Accuracy</th>\n",
              "      <th>Test Set Accuracy</th>\n",
              "      <th>Testing Set Precision</th>\n",
              "      <th>Testing Set Recall</th>\n",
              "      <th>Testing Set F1</th>\n",
              "      <th>Training Set R Squared</th>\n",
              "      <th>Test Set R Squared</th>\n",
              "      <th>Mean Absolute Error</th>\n",
              "      <th>Mean Sqaured Error</th>\n",
              "      <th>Root Mean Squared Error</th>\n",
              "    </tr>\n",
              "  </thead>\n",
              "  <tbody>\n",
              "    <tr>\n",
              "      <th>0</th>\n",
              "      <td>0.839623</td>\n",
              "      <td>0.824176</td>\n",
              "      <td>0.838087</td>\n",
              "      <td>0.824176</td>\n",
              "      <td>0.820436</td>\n",
              "      <td>0.839623</td>\n",
              "      <td>0.824176</td>\n",
              "      <td>0.175824</td>\n",
              "      <td>0.175824</td>\n",
              "      <td>0.419314</td>\n",
              "    </tr>\n",
              "  </tbody>\n",
              "</table>\n",
              "</div>"
            ],
            "text/plain": [
              "   Training Set Accuracy  ...  Root Mean Squared Error\n",
              "0               0.839623  ...                 0.419314\n",
              "\n",
              "[1 rows x 10 columns]"
            ]
          },
          "metadata": {
            "tags": []
          },
          "execution_count": 56
        }
      ]
    },
    {
      "cell_type": "markdown",
      "metadata": {
        "id": "gYp88lWS0ROR"
      },
      "source": [
        "## **Model Comparisons**  <a name=\"16\"></a>"
      ]
    },
    {
      "cell_type": "code",
      "metadata": {
        "id": "JGw9Ak8CvUlv"
      },
      "source": [
        "#create list of models\n",
        "clf_results_list = [lr_df, rf_df, knn_df, svm_df, gb_df, ridge_df]\n",
        "\n",
        "clf_results_df = pd.concat(clf_results_list)"
      ],
      "execution_count": null,
      "outputs": []
    },
    {
      "cell_type": "code",
      "metadata": {
        "id": "amaJnLuG04Nx"
      },
      "source": [
        "#reset index twice so renaming a column with model names is possible next.\n",
        "clf_results_df.reset_index(inplace=True)\n",
        "clf_results_df.reset_index(inplace=True)"
      ],
      "execution_count": null,
      "outputs": []
    },
    {
      "cell_type": "code",
      "metadata": {
        "id": "7p7CCveQRVxS"
      },
      "source": [
        "#add model name to level_0 for clf_results_df\n",
        "clf_results_df.loc[clf_results_df['level_0']==0, 'level_0']='LR Classifier'\n",
        "clf_results_df.loc[clf_results_df['level_0']==1, 'level_0']='RF Classifier'\n",
        "clf_results_df.loc[clf_results_df['level_0']==2, 'level_0']='KNN Classifier'\n",
        "clf_results_df.loc[clf_results_df['level_0']==3, 'level_0']='SVM Classifier'\n",
        "clf_results_df.loc[clf_results_df['level_0']==4, 'level_0']='Gradient Boosting Classifier'\n",
        "clf_results_df.loc[clf_results_df['level_0']==5, 'level_0']='Ridge Classifier'\n",
        "clf_results_df.rename(columns={'level_0': 'Model'}, inplace=True)"
      ],
      "execution_count": null,
      "outputs": []
    },
    {
      "cell_type": "code",
      "metadata": {
        "id": "3_2sVpF-5Ok_",
        "colab": {
          "base_uri": "https://localhost:8080/",
          "height": 285
        },
        "outputId": "ba125aea-4222-416d-c049-4e3af49ffb7e"
      },
      "source": [
        "clf_results_df"
      ],
      "execution_count": null,
      "outputs": [
        {
          "output_type": "execute_result",
          "data": {
            "text/html": [
              "<div>\n",
              "<style scoped>\n",
              "    .dataframe tbody tr th:only-of-type {\n",
              "        vertical-align: middle;\n",
              "    }\n",
              "\n",
              "    .dataframe tbody tr th {\n",
              "        vertical-align: top;\n",
              "    }\n",
              "\n",
              "    .dataframe thead th {\n",
              "        text-align: right;\n",
              "    }\n",
              "</style>\n",
              "<table border=\"1\" class=\"dataframe\">\n",
              "  <thead>\n",
              "    <tr style=\"text-align: right;\">\n",
              "      <th></th>\n",
              "      <th>Model</th>\n",
              "      <th>index</th>\n",
              "      <th>Training Set Accuracy</th>\n",
              "      <th>Test Set Accuracy</th>\n",
              "      <th>Testing Set Precision</th>\n",
              "      <th>Testing Set Recall</th>\n",
              "      <th>Testing Set F1</th>\n",
              "      <th>Training Set R Squared</th>\n",
              "      <th>Test Set R Squared</th>\n",
              "      <th>Mean Absolute Error</th>\n",
              "      <th>Mean Sqaured Error</th>\n",
              "      <th>Root Mean Squared Error</th>\n",
              "      <th>Mean Absolute Percentage Error</th>\n",
              "    </tr>\n",
              "  </thead>\n",
              "  <tbody>\n",
              "    <tr>\n",
              "      <th>0</th>\n",
              "      <td>LR Classifier</td>\n",
              "      <td>0</td>\n",
              "      <td>0.839623</td>\n",
              "      <td>0.813187</td>\n",
              "      <td>0.829694</td>\n",
              "      <td>0.813187</td>\n",
              "      <td>0.808538</td>\n",
              "      <td>0.839623</td>\n",
              "      <td>0.813187</td>\n",
              "      <td>0.186813</td>\n",
              "      <td>0.186813</td>\n",
              "      <td>0.432219</td>\n",
              "      <td>NaN</td>\n",
              "    </tr>\n",
              "    <tr>\n",
              "      <th>1</th>\n",
              "      <td>RF Classifier</td>\n",
              "      <td>0</td>\n",
              "      <td>0.919811</td>\n",
              "      <td>0.813187</td>\n",
              "      <td>0.818681</td>\n",
              "      <td>0.813187</td>\n",
              "      <td>0.810922</td>\n",
              "      <td>0.919811</td>\n",
              "      <td>0.813187</td>\n",
              "      <td>0.186813</td>\n",
              "      <td>0.186813</td>\n",
              "      <td>0.432219</td>\n",
              "      <td>NaN</td>\n",
              "    </tr>\n",
              "    <tr>\n",
              "      <th>2</th>\n",
              "      <td>KNN Classifier</td>\n",
              "      <td>0</td>\n",
              "      <td>0.896226</td>\n",
              "      <td>0.835165</td>\n",
              "      <td>0.837915</td>\n",
              "      <td>0.835165</td>\n",
              "      <td>0.833949</td>\n",
              "      <td>0.896226</td>\n",
              "      <td>0.835165</td>\n",
              "      <td>0.164835</td>\n",
              "      <td>0.164835</td>\n",
              "      <td>0.405999</td>\n",
              "      <td>inf</td>\n",
              "    </tr>\n",
              "    <tr>\n",
              "      <th>3</th>\n",
              "      <td>SVM Classifier</td>\n",
              "      <td>0</td>\n",
              "      <td>0.863208</td>\n",
              "      <td>0.846154</td>\n",
              "      <td>0.855362</td>\n",
              "      <td>0.846154</td>\n",
              "      <td>0.843862</td>\n",
              "      <td>0.863208</td>\n",
              "      <td>0.846154</td>\n",
              "      <td>0.153846</td>\n",
              "      <td>0.153846</td>\n",
              "      <td>0.392232</td>\n",
              "      <td>NaN</td>\n",
              "    </tr>\n",
              "    <tr>\n",
              "      <th>4</th>\n",
              "      <td>Gradient Boosting Classifier</td>\n",
              "      <td>0</td>\n",
              "      <td>0.971698</td>\n",
              "      <td>0.835165</td>\n",
              "      <td>0.835047</td>\n",
              "      <td>0.835165</td>\n",
              "      <td>0.835004</td>\n",
              "      <td>0.971698</td>\n",
              "      <td>0.835165</td>\n",
              "      <td>0.164835</td>\n",
              "      <td>0.164835</td>\n",
              "      <td>0.405999</td>\n",
              "      <td>NaN</td>\n",
              "    </tr>\n",
              "    <tr>\n",
              "      <th>5</th>\n",
              "      <td>Ridge Classifier</td>\n",
              "      <td>0</td>\n",
              "      <td>0.839623</td>\n",
              "      <td>0.824176</td>\n",
              "      <td>0.838087</td>\n",
              "      <td>0.824176</td>\n",
              "      <td>0.820436</td>\n",
              "      <td>0.839623</td>\n",
              "      <td>0.824176</td>\n",
              "      <td>0.175824</td>\n",
              "      <td>0.175824</td>\n",
              "      <td>0.419314</td>\n",
              "      <td>NaN</td>\n",
              "    </tr>\n",
              "  </tbody>\n",
              "</table>\n",
              "</div>"
            ],
            "text/plain": [
              "                          Model  ...  Mean Absolute Percentage Error\n",
              "0                 LR Classifier  ...                             NaN\n",
              "1                 RF Classifier  ...                             NaN\n",
              "2                KNN Classifier  ...                             inf\n",
              "3                SVM Classifier  ...                             NaN\n",
              "4  Gradient Boosting Classifier  ...                             NaN\n",
              "5              Ridge Classifier  ...                             NaN\n",
              "\n",
              "[6 rows x 13 columns]"
            ]
          },
          "metadata": {
            "tags": []
          },
          "execution_count": 60
        }
      ]
    },
    {
      "cell_type": "markdown",
      "metadata": {
        "id": "f9L8HRzAMiMy"
      },
      "source": [
        "## **Conclusion**  <a name=\"17\"></a>\r\n",
        "\r\n",
        "The SVM model performed best on the test set and had the highest degree of precision. This is important because it means it correctly identifies heart disease the best out of the models. "
      ]
    },
    {
      "cell_type": "markdown",
      "metadata": {
        "id": "6-nliwrgNHEy"
      },
      "source": [
        "#**Deployment of Model** <a name=\"18\"></a>"
      ]
    },
    {
      "cell_type": "markdown",
      "metadata": {
        "id": "Q55yrPxb6omW"
      },
      "source": [
        "##**Create user based form to ingest data of all features from a user.** <a name=\"19\"></a>"
      ]
    },
    {
      "cell_type": "code",
      "metadata": {
        "id": "PEBh-VcM1De7"
      },
      "source": [
        "User_Age = 67 #@param {type:\"integer\"}\n",
        "Sex = \"Male\" #@param [\"Male\", \"Female\"]\n",
        "if 'Male':\n",
        "  sex = 1\n",
        "else:\n",
        "  sex = 0\n",
        "Chest_Pain = \"Asymptomatic\" #@param [\"Asymptomatic\", \"Atypical Angina\", \"Non-Anginal Pain\", \"Typical Angina\"]\n",
        "if 'Asymptomatic':\n",
        "  Chest_Pain = 0\n",
        "elif 'Atypical Angina':\n",
        "  Chest_Pain = 1\n",
        "elif 'Non-Anginal Pain':\n",
        "  Chest_Pain = 2\n",
        "else:\n",
        "  Chest_Pain = 3\n",
        "Resting_Blood_Pressure = 160 #@param {type:\"slider\", min:90, max:200, step:1}\n",
        "serum_cholesterol = 280 #@param {type:\"slider\", min:100, max:500, step:1}\n",
        "fasting_blood_sugar = \"\\u003C 120 mg/dl\" #@param [\"> 120 mg/dl\", \"\\u003C 120 mg/dl\"]\n",
        "if '> 120 mg/dl':\n",
        "  fasting_blood_sugar = 1\n",
        "else:\n",
        "  fasting_blood_sugar = 0\n",
        "resting_ect = \"Normal\" #@param [\"Showing probable or definite left ventricular hypertrophy by Estes\\u2019 criteria.\", \"Normal\", \"Having ST-T wave abnormality (T wave inversions and/or ST elevation or depression of > 0.05 mV\"]\n",
        "if 'Showing probable or definite left ventricular hypertrophy by Estes’ criteria.':\n",
        "  resting_ect = 0\n",
        "elif 'Normal':\n",
        "  resting_ect = 1\n",
        "else:\n",
        "  resting_ect = 2\n",
        "max_hr_achieved = 105 #@param {type:\"slider\", min:60, max:220, step:1}\n",
        "exercise_induced_angina = \"Yes\" #@param [\"Yes\", \"No\"]\n",
        "if 'Yes':\n",
        "  exercise_induced_angina = 1\n",
        "else:\n",
        "  exercise_induced_angina = 0\n",
        "old_peak = 1.5 #@param {type:\"slider\", min:0, max:6.5, step:0.1}\n",
        "slope = \"Flat\" #@param [\"Downsloping\", \"Flat\", \"Upsloping\"]\n",
        "if 'Downsloping':\n",
        "  slope = 0\n",
        "elif 'Flat':\n",
        "  slope = 1\n",
        "else:\n",
        "  slope = 2\n",
        "num_major_vessels = \"3\" #@param [\"0\", \"1\", \"2\", \"3\"]\n",
        "thal = \"2\" #@param [\"0\", \"1\", \"2\", \"3\"]"
      ],
      "execution_count": null,
      "outputs": []
    },
    {
      "cell_type": "code",
      "metadata": {
        "colab": {
          "base_uri": "https://localhost:8080/",
          "height": 48,
          "referenced_widgets": [
            "8c43c7ea4bc64164b43080572a3c1cf1",
            "28df4e927f424e419da79561d71901fe",
            "a8700c75145a489fb8b6c15235bbb849",
            "40c3a0577a5e422bb9e0ed52870d97b7",
            "2329a7309fe74ed799202bd983ad1242"
          ]
        },
        "id": "0G6lcJnr6WjR",
        "outputId": "f465bbb1-9c81-4c5b-afef-7ead6488e19b"
      },
      "source": [
        "#Calculate results from user submitted form. \r\n",
        "\r\n",
        "#define a submit button\r\n",
        "button = widgets.Button(description='Submit')\r\n",
        "\r\n",
        "#define outout\r\n",
        "output = widgets.Output()\r\n",
        "\r\n",
        "#define a function to interpret user results and make prediction through model\r\n",
        "def on_button_clicked(b):\r\n",
        "  # Display the message within the output widget.\r\n",
        "  with output:\r\n",
        "    #define input\r\n",
        "    new_input = [[User_Age,sex,Chest_Pain,Resting_Blood_Pressure,serum_cholesterol,fasting_blood_sugar,resting_ect,max_hr_achieved,exercise_induced_angina,old_peak,slope,num_major_vessels,thal]]\r\n",
        "    #pass new input through svm model\r\n",
        "    new_output = svm_clf.predict(new_input)\r\n",
        "    #display detection of heart disease or not depending upon model prediction\r\n",
        "    if new_output == 0:\r\n",
        "      print('Congratulations, no heart disease detected.')\r\n",
        "    else:\r\n",
        "      print('Sorry, heart disease has been detected.')\r\n",
        "\r\n",
        "#run function\r\n",
        "button.on_click(on_button_clicked)\r\n",
        "display(button, output)"
      ],
      "execution_count": null,
      "outputs": [
        {
          "output_type": "display_data",
          "data": {
            "application/vnd.jupyter.widget-view+json": {
              "model_id": "8c43c7ea4bc64164b43080572a3c1cf1",
              "version_minor": 0,
              "version_major": 2
            },
            "text/plain": [
              "Button(description='Submit', style=ButtonStyle())"
            ]
          },
          "metadata": {
            "tags": []
          }
        },
        {
          "output_type": "display_data",
          "data": {
            "application/vnd.jupyter.widget-view+json": {
              "model_id": "40c3a0577a5e422bb9e0ed52870d97b7",
              "version_minor": 0,
              "version_major": 2
            },
            "text/plain": [
              "Output()"
            ]
          },
          "metadata": {
            "tags": []
          }
        }
      ]
    },
    {
      "cell_type": "markdown",
      "metadata": {
        "id": "6B8lKudlLrsJ"
      },
      "source": [
        "## **Flask User Input to Determine Heart Disease Status** <a name=\"20\"></a>"
      ]
    },
    {
      "cell_type": "code",
      "metadata": {
        "colab": {
          "base_uri": "https://localhost:8080/"
        },
        "id": "FiimWUi0L0p6",
        "outputId": "806f2cd4-30e2-43eb-bda2-c8e7293cf786"
      },
      "source": [
        "app = Flask(__name__) #creates flask app\r\n",
        "\r\n",
        "run_with_ngrok(app)   #starts ngrok when the app is run\r\n",
        "\r\n",
        "@app.route(\"/\") #map URL with task to perform\r\n",
        "\r\n",
        "#create a function to determine heart disease status through flask app\r\n",
        "def hd_status():\r\n",
        "   new_input = [[User_Age,sex,Chest_Pain,Resting_Blood_Pressure,serum_cholesterol,fasting_blood_sugar,resting_ect,max_hr_achieved,exercise_induced_angina,old_peak,slope,num_major_vessels,thal]]\r\n",
        "   new_output = svm_clf.predict(new_input)\r\n",
        "   new_output = new_output.astype(str)\r\n",
        "   if new_output == '0':\r\n",
        "      return 'Congratulations, no heart disease detected.'\r\n",
        "   else:\r\n",
        "     return 'Sorry, heart disease has been detected.'\r\n",
        " \r\n",
        "app.run()"
      ],
      "execution_count": null,
      "outputs": [
        {
          "output_type": "stream",
          "text": [
            " * Serving Flask app \"__main__\" (lazy loading)\n",
            " * Environment: production\n",
            "\u001b[31m   WARNING: This is a development server. Do not use it in a production deployment.\u001b[0m\n",
            "\u001b[2m   Use a production WSGI server instead.\u001b[0m\n",
            " * Debug mode: off\n"
          ],
          "name": "stdout"
        },
        {
          "output_type": "stream",
          "text": [
            " * Running on http://127.0.0.1:5000/ (Press CTRL+C to quit)\n"
          ],
          "name": "stderr"
        },
        {
          "output_type": "stream",
          "text": [
            " * Running on http://c344121376d4.ngrok.io\n",
            " * Traffic stats available on http://127.0.0.1:4040\n"
          ],
          "name": "stdout"
        },
        {
          "output_type": "stream",
          "text": [
            "127.0.0.1 - - [27/Jan/2021 15:34:38] \"\u001b[37mGET / HTTP/1.1\u001b[0m\" 200 -\n",
            "127.0.0.1 - - [27/Jan/2021 15:34:39] \"\u001b[33mGET /favicon.ico HTTP/1.1\u001b[0m\" 404 -\n"
          ],
          "name": "stderr"
        }
      ]
    },
    {
      "cell_type": "code",
      "metadata": {
        "colab": {
          "resources": {
            "https://localhost:6060/": {
              "data": "Q29uZ3JhdHVsYXRpb25zLCBubyBoZWFydCBkaXNlYXNlIGRldGVjdGVkLg==",
              "ok": true,
              "headers": [
                [
                  "content-type",
                  "text/html; charset=utf-8"
                ]
              ],
              "status": 200,
              "status_text": ""
            }
          },
          "base_uri": "https://localhost:8080/",
          "height": 121
        },
        "id": "svakvv5tN02e",
        "outputId": "641ae460-b214-476c-b979-78fe54d2ef19"
      },
      "source": [
        "#function to view the output of the flask output in this notebook\r\n",
        "def display(port, height):\r\n",
        "    shell = \"\"\"\r\n",
        "        (async () => {\r\n",
        "            const url = await google.colab.kernel.proxyPort(%PORT%, {\"cache\": true});\r\n",
        "            const iframe = document.createElement('iframe');\r\n",
        "            iframe.src = url;\r\n",
        "            iframe.setAttribute('width', '100%');\r\n",
        "            iframe.setAttribute('height', '%HEIGHT%');\r\n",
        "            iframe.setAttribute('frameborder', 0);\r\n",
        "            document.body.appendChild(iframe);\r\n",
        "        })();\r\n",
        "    \"\"\"\r\n",
        "    replacements = [\r\n",
        "        (\"%PORT%\", \"%d\" % port),\r\n",
        "        (\"%HEIGHT%\", \"%d\" % height),\r\n",
        "    ]\r\n",
        "    for (k, v) in replacements:\r\n",
        "        shell = shell.replace(k, v)\r\n",
        "\r\n",
        "    script = IPython.display.Javascript(shell)\r\n",
        "    IPython.display.display(script)\r\n",
        "\r\n",
        "display(6060, 100)"
      ],
      "execution_count": null,
      "outputs": [
        {
          "output_type": "display_data",
          "data": {
            "application/javascript": [
              "\n",
              "        (async () => {\n",
              "            const url = await google.colab.kernel.proxyPort(6060, {\"cache\": true});\n",
              "            const iframe = document.createElement('iframe');\n",
              "            iframe.src = url;\n",
              "            iframe.setAttribute('width', '100%');\n",
              "            iframe.setAttribute('height', '100');\n",
              "            iframe.setAttribute('frameborder', 0);\n",
              "            document.body.appendChild(iframe);\n",
              "        })();\n",
              "    "
            ],
            "text/plain": [
              "<IPython.core.display.Javascript object>"
            ]
          },
          "metadata": {
            "tags": []
          }
        }
      ]
    }
  ]
}